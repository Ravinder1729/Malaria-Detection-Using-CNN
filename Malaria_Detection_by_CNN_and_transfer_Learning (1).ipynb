{
  "nbformat": 4,
  "nbformat_minor": 0,
  "metadata": {
    "colab": {
      "provenance": [],
      "gpuType": "T4"
    },
    "kernelspec": {
      "name": "python3",
      "display_name": "Python 3"
    },
    "language_info": {
      "name": "python"
    },
    "accelerator": "GPU"
  },
  "cells": [
    {
      "cell_type": "code",
      "execution_count": 11,
      "metadata": {
        "id": "Gom7mkEQlSS8"
      },
      "outputs": [],
      "source": [
        "# import libraries\n",
        "\n",
        "\n",
        "from tensorflow.keras.layers import Input, Lambda, Dense, Flatten,Conv2D\n",
        "from tensorflow.keras.models import Model\n",
        "from tensorflow.keras.applications.vgg19 import VGG19\n",
        "from tensorflow.keras.applications.resnet50 import preprocess_input\n",
        "from tensorflow.keras.preprocessing import image\n",
        "from tensorflow.keras.preprocessing.image import ImageDataGenerator,load_img\n",
        "from tensorflow.keras.models import Sequential\n",
        "import numpy as np\n",
        "from glob import glob\n",
        "import matplotlib.pyplot as plt"
      ]
    },
    {
      "cell_type": "code",
      "source": [
        "import tensorflow as tf\n",
        "print(tf.__version__)"
      ],
      "metadata": {
        "colab": {
          "base_uri": "https://localhost:8080/"
        },
        "id": "TDvXc4JTlfHe",
        "outputId": "33c4ca78-e73a-4d00-a4ca-027626862ee1"
      },
      "execution_count": 12,
      "outputs": [
        {
          "output_type": "stream",
          "name": "stdout",
          "text": [
            "2.12.0\n"
          ]
        }
      ]
    },
    {
      "cell_type": "code",
      "source": [
        "!unzip /content/Dataset.zip"
      ],
      "metadata": {
        "colab": {
          "base_uri": "https://localhost:8080/"
        },
        "id": "VxSa9UpPS_I4",
        "outputId": "ffd9953f-d728-409e-a145-eb935f139dcd"
      },
      "execution_count": 18,
      "outputs": [
        {
          "output_type": "stream",
          "name": "stdout",
          "text": [
            "Archive:  /content/Dataset.zip\n",
            "   creating: Dataset/Test/\n",
            "   creating: Dataset/Test/Parasite/\n",
            " extracting: Dataset/Test/Parasite/C39P4thinF_original_IMG_20150622_105554_cell_10.png  \n",
            " extracting: Dataset/Test/Parasite/C39P4thinF_original_IMG_20150622_105554_cell_11.png  \n",
            "  inflating: Dataset/Test/Parasite/C39P4thinF_original_IMG_20150622_105554_cell_12.png  \n",
            " extracting: Dataset/Test/Parasite/C39P4thinF_original_IMG_20150622_105554_cell_13.png  \n",
            " extracting: Dataset/Test/Parasite/C39P4thinF_original_IMG_20150622_105554_cell_14.png  \n",
            "  inflating: Dataset/Test/Parasite/C39P4thinF_original_IMG_20150622_105554_cell_15.png  \n",
            " extracting: Dataset/Test/Parasite/C39P4thinF_original_IMG_20150622_105554_cell_16.png  \n",
            " extracting: Dataset/Test/Parasite/C39P4thinF_original_IMG_20150622_105554_cell_17.png  \n",
            " extracting: Dataset/Test/Parasite/C39P4thinF_original_IMG_20150622_105554_cell_18.png  \n",
            " extracting: Dataset/Test/Parasite/C39P4thinF_original_IMG_20150622_105554_cell_19.png  \n",
            " extracting: Dataset/Test/Parasite/C39P4thinF_original_IMG_20150622_105554_cell_20.png  \n",
            " extracting: Dataset/Test/Parasite/C39P4thinF_original_IMG_20150622_105554_cell_21.png  \n",
            " extracting: Dataset/Test/Parasite/C39P4thinF_original_IMG_20150622_105554_cell_22.png  \n",
            " extracting: Dataset/Test/Parasite/C39P4thinF_original_IMG_20150622_105554_cell_23.png  \n",
            " extracting: Dataset/Test/Parasite/C39P4thinF_original_IMG_20150622_105554_cell_24.png  \n",
            " extracting: Dataset/Test/Parasite/C39P4thinF_original_IMG_20150622_105554_cell_25.png  \n",
            " extracting: Dataset/Test/Parasite/C39P4thinF_original_IMG_20150622_105554_cell_26.png  \n",
            " extracting: Dataset/Test/Parasite/C39P4thinF_original_IMG_20150622_105554_cell_9.png  \n",
            " extracting: Dataset/Test/Parasite/C39P4thinF_original_IMG_20150622_105803_cell_100.png  \n",
            " extracting: Dataset/Test/Parasite/C39P4thinF_original_IMG_20150622_105803_cell_101.png  \n",
            " extracting: Dataset/Test/Parasite/C39P4thinF_original_IMG_20150622_105803_cell_102.png  \n",
            " extracting: Dataset/Test/Parasite/C39P4thinF_original_IMG_20150622_105803_cell_103.png  \n",
            " extracting: Dataset/Test/Parasite/C39P4thinF_original_IMG_20150622_105803_cell_104.png  \n",
            " extracting: Dataset/Test/Parasite/C39P4thinF_original_IMG_20150622_105803_cell_105.png  \n",
            " extracting: Dataset/Test/Parasite/C39P4thinF_original_IMG_20150622_105803_cell_106.png  \n",
            " extracting: Dataset/Test/Parasite/C39P4thinF_original_IMG_20150622_105803_cell_107.png  \n",
            " extracting: Dataset/Test/Parasite/C39P4thinF_original_IMG_20150622_105803_cell_108.png  \n",
            " extracting: Dataset/Test/Parasite/C39P4thinF_original_IMG_20150622_105803_cell_109.png  \n",
            " extracting: Dataset/Test/Parasite/C39P4thinF_original_IMG_20150622_105803_cell_110.png  \n",
            " extracting: Dataset/Test/Parasite/C39P4thinF_original_IMG_20150622_105803_cell_111.png  \n",
            " extracting: Dataset/Test/Parasite/C39P4thinF_original_IMG_20150622_105803_cell_112.png  \n",
            " extracting: Dataset/Test/Parasite/C39P4thinF_original_IMG_20150622_105803_cell_78.png  \n",
            " extracting: Dataset/Test/Parasite/C39P4thinF_original_IMG_20150622_105803_cell_79.png  \n",
            " extracting: Dataset/Test/Parasite/C39P4thinF_original_IMG_20150622_105803_cell_80.png  \n",
            " extracting: Dataset/Test/Parasite/C39P4thinF_original_IMG_20150622_105803_cell_81.png  \n",
            " extracting: Dataset/Test/Parasite/C39P4thinF_original_IMG_20150622_105803_cell_82.png  \n",
            " extracting: Dataset/Test/Parasite/C39P4thinF_original_IMG_20150622_105803_cell_83.png  \n",
            " extracting: Dataset/Test/Parasite/C39P4thinF_original_IMG_20150622_105803_cell_84.png  \n",
            " extracting: Dataset/Test/Parasite/C39P4thinF_original_IMG_20150622_105803_cell_85.png  \n",
            " extracting: Dataset/Test/Parasite/C39P4thinF_original_IMG_20150622_105803_cell_86.png  \n",
            " extracting: Dataset/Test/Parasite/C39P4thinF_original_IMG_20150622_105803_cell_87.png  \n",
            " extracting: Dataset/Test/Parasite/C39P4thinF_original_IMG_20150622_105803_cell_88.png  \n",
            " extracting: Dataset/Test/Parasite/C39P4thinF_original_IMG_20150622_105803_cell_89.png  \n",
            " extracting: Dataset/Test/Parasite/C39P4thinF_original_IMG_20150622_105803_cell_90.png  \n",
            " extracting: Dataset/Test/Parasite/C39P4thinF_original_IMG_20150622_105803_cell_91.png  \n",
            " extracting: Dataset/Test/Parasite/C39P4thinF_original_IMG_20150622_105803_cell_92.png  \n",
            " extracting: Dataset/Test/Parasite/C39P4thinF_original_IMG_20150622_105803_cell_93.png  \n",
            " extracting: Dataset/Test/Parasite/C39P4thinF_original_IMG_20150622_105803_cell_94.png  \n",
            " extracting: Dataset/Test/Parasite/C39P4thinF_original_IMG_20150622_105803_cell_95.png  \n",
            " extracting: Dataset/Test/Parasite/C39P4thinF_original_IMG_20150622_105803_cell_96.png  \n",
            " extracting: Dataset/Test/Parasite/C39P4thinF_original_IMG_20150622_105803_cell_97.png  \n",
            " extracting: Dataset/Test/Parasite/C39P4thinF_original_IMG_20150622_105803_cell_98.png  \n",
            " extracting: Dataset/Test/Parasite/C39P4thinF_original_IMG_20150622_105803_cell_99.png  \n",
            " extracting: Dataset/Test/Parasite/C39P4thinF_original_IMG_20150622_110115_cell_104.png  \n",
            " extracting: Dataset/Test/Parasite/C39P4thinF_original_IMG_20150622_110115_cell_105.png  \n",
            " extracting: Dataset/Test/Parasite/C39P4thinF_original_IMG_20150622_110115_cell_106.png  \n",
            " extracting: Dataset/Test/Parasite/C39P4thinF_original_IMG_20150622_110115_cell_107.png  \n",
            " extracting: Dataset/Test/Parasite/C39P4thinF_original_IMG_20150622_110115_cell_108.png  \n",
            " extracting: Dataset/Test/Parasite/C39P4thinF_original_IMG_20150622_110115_cell_109.png  \n",
            " extracting: Dataset/Test/Parasite/C39P4thinF_original_IMG_20150622_110115_cell_110.png  \n",
            " extracting: Dataset/Test/Parasite/C39P4thinF_original_IMG_20150622_110115_cell_111.png  \n",
            " extracting: Dataset/Test/Parasite/C39P4thinF_original_IMG_20150622_110115_cell_112.png  \n",
            " extracting: Dataset/Test/Parasite/C39P4thinF_original_IMG_20150622_110115_cell_113.png  \n",
            " extracting: Dataset/Test/Parasite/C39P4thinF_original_IMG_20150622_110115_cell_114.png  \n",
            " extracting: Dataset/Test/Parasite/C39P4thinF_original_IMG_20150622_110115_cell_115.png  \n",
            " extracting: Dataset/Test/Parasite/C39P4thinF_original_IMG_20150622_110115_cell_116.png  \n",
            " extracting: Dataset/Test/Parasite/C39P4thinF_original_IMG_20150622_110115_cell_117.png  \n",
            " extracting: Dataset/Test/Parasite/C39P4thinF_original_IMG_20150622_110115_cell_118.png  \n",
            " extracting: Dataset/Test/Parasite/C39P4thinF_original_IMG_20150622_110115_cell_119.png  \n",
            " extracting: Dataset/Test/Parasite/C39P4thinF_original_IMG_20150622_110115_cell_120.png  \n",
            " extracting: Dataset/Test/Parasite/C39P4thinF_original_IMG_20150622_110115_cell_121.png  \n",
            " extracting: Dataset/Test/Parasite/C39P4thinF_original_IMG_20150622_110115_cell_122.png  \n",
            " extracting: Dataset/Test/Parasite/C39P4thinF_original_IMG_20150622_110115_cell_123.png  \n",
            " extracting: Dataset/Test/Parasite/C39P4thinF_original_IMG_20150622_110115_cell_124.png  \n",
            " extracting: Dataset/Test/Parasite/C39P4thinF_original_IMG_20150622_110115_cell_125.png  \n",
            " extracting: Dataset/Test/Parasite/C39P4thinF_original_IMG_20150622_110115_cell_126.png  \n",
            " extracting: Dataset/Test/Parasite/C39P4thinF_original_IMG_20150622_110115_cell_127.png  \n",
            " extracting: Dataset/Test/Parasite/C39P4thinF_original_IMG_20150622_110115_cell_128.png  \n",
            " extracting: Dataset/Test/Parasite/C39P4thinF_original_IMG_20150622_110115_cell_129.png  \n",
            " extracting: Dataset/Test/Parasite/C39P4thinF_original_IMG_20150622_110115_cell_130.png  \n",
            " extracting: Dataset/Test/Parasite/C39P4thinF_original_IMG_20150622_110115_cell_131.png  \n",
            " extracting: Dataset/Test/Parasite/C39P4thinF_original_IMG_20150622_110115_cell_132.png  \n",
            " extracting: Dataset/Test/Parasite/C39P4thinF_original_IMG_20150622_110115_cell_133.png  \n",
            " extracting: Dataset/Test/Parasite/C39P4thinF_original_IMG_20150622_110115_cell_134.png  \n",
            " extracting: Dataset/Test/Parasite/C39P4thinF_original_IMG_20150622_110115_cell_135.png  \n",
            " extracting: Dataset/Test/Parasite/C39P4thinF_original_IMG_20150622_110115_cell_136.png  \n",
            " extracting: Dataset/Test/Parasite/C39P4thinF_original_IMG_20150622_110115_cell_137.png  \n",
            " extracting: Dataset/Test/Parasite/C39P4thinF_original_IMG_20150622_110115_cell_138.png  \n",
            " extracting: Dataset/Test/Parasite/C39P4thinF_original_IMG_20150622_110352_cell_78.png  \n",
            " extracting: Dataset/Test/Parasite/C39P4thinF_original_IMG_20150622_110352_cell_79.png  \n",
            " extracting: Dataset/Test/Parasite/C39P4thinF_original_IMG_20150622_110352_cell_80.png  \n",
            "   creating: Dataset/Test/Uninfected/\n",
            " extracting: Dataset/Test/Uninfected/2.png  \n",
            " extracting: Dataset/Test/Uninfected/C3thin_original_IMG_20150608_162922_cell_145.png  \n",
            " extracting: Dataset/Test/Uninfected/C3thin_original_IMG_20150608_162922_cell_191.png  \n",
            " extracting: Dataset/Test/Uninfected/C3thin_original_IMG_20150608_162922_cell_205.png  \n",
            " extracting: Dataset/Test/Uninfected/C3thin_original_IMG_20150608_162922_cell_211.png  \n",
            " extracting: Dataset/Test/Uninfected/C3thin_original_IMG_20150608_162922_cell_217.png  \n",
            " extracting: Dataset/Test/Uninfected/C3thin_original_IMG_20150608_163002_cell_13.png  \n",
            " extracting: Dataset/Test/Uninfected/C3thin_original_IMG_20150608_163002_cell_144.png  \n",
            " extracting: Dataset/Test/Uninfected/C3thin_original_IMG_20150608_163002_cell_146.png  \n",
            " extracting: Dataset/Test/Uninfected/C3thin_original_IMG_20150608_163002_cell_159.png  \n",
            " extracting: Dataset/Test/Uninfected/C3thin_original_IMG_20150608_163002_cell_195.png  \n",
            " extracting: Dataset/Test/Uninfected/C3thin_original_IMG_20150608_163002_cell_32.png  \n",
            " extracting: Dataset/Test/Uninfected/C3thin_original_IMG_20150608_163002_cell_34.png  \n",
            " extracting: Dataset/Test/Uninfected/C3thin_original_IMG_20150608_163002_cell_39.png  \n",
            " extracting: Dataset/Test/Uninfected/C3thin_original_IMG_20150608_163002_cell_63.png  \n",
            " extracting: Dataset/Test/Uninfected/C3thin_original_IMG_20150608_163002_cell_78.png  \n",
            " extracting: Dataset/Test/Uninfected/C3thin_original_IMG_20150608_163002_cell_81.png  \n",
            " extracting: Dataset/Test/Uninfected/C3thin_original_IMG_20150608_163002_cell_88.png  \n",
            " extracting: Dataset/Test/Uninfected/C3thin_original_IMG_20150608_163002_cell_93.png  \n",
            " extracting: Dataset/Test/Uninfected/C3thin_original_IMG_20150608_163002_cell_97.png  \n",
            " extracting: Dataset/Test/Uninfected/C3thin_original_IMG_20150608_163029_cell_1.png  \n",
            " extracting: Dataset/Test/Uninfected/C3thin_original_IMG_20150608_163029_cell_109.png  \n",
            " extracting: Dataset/Test/Uninfected/C3thin_original_IMG_20150608_163029_cell_121.png  \n",
            " extracting: Dataset/Test/Uninfected/C3thin_original_IMG_20150608_163029_cell_125.png  \n",
            " extracting: Dataset/Test/Uninfected/C3thin_original_IMG_20150608_163029_cell_156.png  \n",
            " extracting: Dataset/Test/Uninfected/C3thin_original_IMG_20150608_163029_cell_166.png  \n",
            " extracting: Dataset/Test/Uninfected/C3thin_original_IMG_20150608_163029_cell_186.png  \n",
            " extracting: Dataset/Test/Uninfected/C3thin_original_IMG_20150608_163029_cell_202.png  \n",
            " extracting: Dataset/Test/Uninfected/C3thin_original_IMG_20150608_163029_cell_220.png  \n",
            " extracting: Dataset/Test/Uninfected/C3thin_original_IMG_20150608_163029_cell_44.png  \n",
            " extracting: Dataset/Test/Uninfected/C3thin_original_IMG_20150608_163029_cell_52.png  \n",
            " extracting: Dataset/Test/Uninfected/C3thin_original_IMG_20150608_163029_cell_57.png  \n",
            " extracting: Dataset/Test/Uninfected/C3thin_original_IMG_20150608_163029_cell_80.png  \n",
            " extracting: Dataset/Test/Uninfected/C3thin_original_IMG_20150608_163029_cell_83.png  \n",
            " extracting: Dataset/Test/Uninfected/C3thin_original_IMG_20150608_163047_cell_103.png  \n",
            " extracting: Dataset/Test/Uninfected/C3thin_original_IMG_20150608_163047_cell_145.png  \n",
            " extracting: Dataset/Test/Uninfected/C3thin_original_IMG_20150608_163047_cell_147.png  \n",
            " extracting: Dataset/Test/Uninfected/C3thin_original_IMG_20150608_163047_cell_161.png  \n",
            " extracting: Dataset/Test/Uninfected/C3thin_original_IMG_20150608_163047_cell_168.png  \n",
            " extracting: Dataset/Test/Uninfected/C3thin_original_IMG_20150608_163047_cell_183.png  \n",
            " extracting: Dataset/Test/Uninfected/C3thin_original_IMG_20150608_163047_cell_22.png  \n",
            " extracting: Dataset/Test/Uninfected/C3thin_original_IMG_20150608_163047_cell_26.png  \n",
            " extracting: Dataset/Test/Uninfected/C3thin_original_IMG_20150608_163047_cell_36.png  \n",
            "   creating: Dataset/Train/\n",
            "   creating: Dataset/Train/Parasite/\n",
            " extracting: Dataset/Train/Parasite/C133P94ThinF_IMG_20151004_155721_cell_111.png  \n",
            " extracting: Dataset/Train/Parasite/C133P94ThinF_IMG_20151004_155721_cell_112.png  \n",
            " extracting: Dataset/Train/Parasite/C133P94ThinF_IMG_20151004_155721_cell_113.png  \n",
            " extracting: Dataset/Train/Parasite/C133P94ThinF_IMG_20151004_155721_cell_114.png  \n",
            " extracting: Dataset/Train/Parasite/C133P94ThinF_IMG_20151004_155721_cell_115.png  \n",
            " extracting: Dataset/Train/Parasite/C133P94ThinF_IMG_20151004_155721_cell_116.png  \n",
            " extracting: Dataset/Train/Parasite/C133P94ThinF_IMG_20151004_155721_cell_117.png  \n",
            " extracting: Dataset/Train/Parasite/C133P94ThinF_IMG_20151004_155721_cell_118.png  \n",
            " extracting: Dataset/Train/Parasite/C133P94ThinF_IMG_20151004_155721_cell_119.png  \n",
            " extracting: Dataset/Train/Parasite/C133P94ThinF_IMG_20151004_155721_cell_120.png  \n",
            " extracting: Dataset/Train/Parasite/C133P94ThinF_IMG_20151004_155721_cell_121.png  \n",
            "  inflating: Dataset/Train/Parasite/C133P94ThinF_IMG_20151004_155721_cell_122.png  \n",
            " extracting: Dataset/Train/Parasite/C133P94ThinF_IMG_20151004_155721_cell_123.png  \n",
            "  inflating: Dataset/Train/Parasite/C133P94ThinF_IMG_20151004_155721_cell_124.png  \n",
            " extracting: Dataset/Train/Parasite/C133P94ThinF_IMG_20151004_155912_cell_1.png  \n",
            " extracting: Dataset/Train/Parasite/C133P94ThinF_IMG_20151004_155912_cell_10.png  \n",
            " extracting: Dataset/Train/Parasite/C133P94ThinF_IMG_20151004_155912_cell_11.png  \n",
            " extracting: Dataset/Train/Parasite/C133P94ThinF_IMG_20151004_155912_cell_12.png  \n",
            " extracting: Dataset/Train/Parasite/C133P94ThinF_IMG_20151004_155912_cell_13.png  \n",
            " extracting: Dataset/Train/Parasite/C133P94ThinF_IMG_20151004_155912_cell_14.png  \n",
            " extracting: Dataset/Train/Parasite/C133P94ThinF_IMG_20151004_155912_cell_15.png  \n",
            " extracting: Dataset/Train/Parasite/C133P94ThinF_IMG_20151004_155912_cell_16.png  \n",
            " extracting: Dataset/Train/Parasite/C133P94ThinF_IMG_20151004_155912_cell_17.png  \n",
            " extracting: Dataset/Train/Parasite/C133P94ThinF_IMG_20151004_155912_cell_18.png  \n",
            " extracting: Dataset/Train/Parasite/C133P94ThinF_IMG_20151004_155912_cell_19.png  \n",
            " extracting: Dataset/Train/Parasite/C133P94ThinF_IMG_20151004_155912_cell_2.png  \n",
            " extracting: Dataset/Train/Parasite/C133P94ThinF_IMG_20151004_155912_cell_20.png  \n",
            " extracting: Dataset/Train/Parasite/C133P94ThinF_IMG_20151004_155912_cell_3.png  \n",
            " extracting: Dataset/Train/Parasite/C133P94ThinF_IMG_20151004_155912_cell_4.png  \n",
            " extracting: Dataset/Train/Parasite/C133P94ThinF_IMG_20151004_155912_cell_5.png  \n",
            " extracting: Dataset/Train/Parasite/C133P94ThinF_IMG_20151004_155912_cell_6.png  \n",
            " extracting: Dataset/Train/Parasite/C133P94ThinF_IMG_20151004_155912_cell_7.png  \n",
            " extracting: Dataset/Train/Parasite/C133P94ThinF_IMG_20151004_155912_cell_8.png  \n",
            " extracting: Dataset/Train/Parasite/C133P94ThinF_IMG_20151004_155912_cell_9.png  \n",
            " extracting: Dataset/Train/Parasite/C134P95ThinF_IMG_20151005_121048_cell_112.png  \n",
            " extracting: Dataset/Train/Parasite/C134P95ThinF_IMG_20151005_121048_cell_113.png  \n",
            " extracting: Dataset/Train/Parasite/C134P95ThinF_IMG_20151005_121343_cell_122.png  \n",
            " extracting: Dataset/Train/Parasite/C134P95ThinF_IMG_20151005_121343_cell_123.png  \n",
            " extracting: Dataset/Train/Parasite/C134P95ThinF_IMG_20151005_121343_cell_124.png  \n",
            " extracting: Dataset/Train/Parasite/C134P95ThinF_IMG_20151005_121425_cell_127.png  \n",
            " extracting: Dataset/Train/Parasite/C134P95ThinF_IMG_20151005_121554_cell_121.png  \n",
            " extracting: Dataset/Train/Parasite/C134P95ThinF_IMG_20151005_121554_cell_122.png  \n",
            " extracting: Dataset/Train/Parasite/C134P95ThinF_IMG_20151005_121656_cell_104.png  \n",
            " extracting: Dataset/Train/Parasite/C134P95ThinF_IMG_20151005_121656_cell_105.png  \n",
            " extracting: Dataset/Train/Parasite/C134P95ThinF_IMG_20151005_121834_cell_120.png  \n",
            "  inflating: Dataset/Train/Parasite/C134P95ThinF_IMG_20151005_121834_cell_121.png  \n",
            " extracting: Dataset/Train/Parasite/C134P95ThinF_IMG_20151005_121834_cell_122.png  \n",
            " extracting: Dataset/Train/Parasite/C134P95ThinF_IMG_20151005_121834_cell_123.png  \n",
            " extracting: Dataset/Train/Parasite/C134P95ThinF_IMG_20151005_121952_cell_120.png  \n",
            " extracting: Dataset/Train/Parasite/C134P95ThinF_IMG_20151005_121952_cell_121.png  \n",
            " extracting: Dataset/Train/Parasite/C134P95ThinF_IMG_20151005_121952_cell_122.png  \n",
            " extracting: Dataset/Train/Parasite/C134P95ThinF_IMG_20151005_121952_cell_123.png  \n",
            " extracting: Dataset/Train/Parasite/C134P95ThinF_IMG_20151005_122331_cell_102.png  \n",
            " extracting: Dataset/Train/Parasite/C134P95ThinF_IMG_20151005_122331_cell_103.png  \n",
            " extracting: Dataset/Train/Parasite/C134P95ThinF_IMG_20151005_122449_cell_133.png  \n",
            " extracting: Dataset/Train/Parasite/C134P95ThinF_IMG_20151005_122449_cell_134.png  \n",
            " extracting: Dataset/Train/Parasite/C134P95ThinF_IMG_20151005_122552_cell_120.png  \n",
            " extracting: Dataset/Train/Parasite/C134P95ThinF_IMG_20151005_122552_cell_121.png  \n",
            " extracting: Dataset/Train/Parasite/C134P95ThinF_IMG_20151005_122552_cell_122.png  \n",
            " extracting: Dataset/Train/Parasite/C134P95ThinF_IMG_20151005_122552_cell_123.png  \n",
            " extracting: Dataset/Train/Parasite/C134P95ThinF_IMG_20151005_122552_cell_124.png  \n",
            " extracting: Dataset/Train/Parasite/C189P150ThinF_IMG_20151203_142113_cell_86.png  \n",
            " extracting: Dataset/Train/Parasite/C189P150ThinF_IMG_20151203_142113_cell_87.png  \n",
            " extracting: Dataset/Train/Parasite/C189P150ThinF_IMG_20151203_142113_cell_88.png  \n",
            " extracting: Dataset/Train/Parasite/C189P150ThinF_IMG_20151203_142113_cell_89.png  \n",
            " extracting: Dataset/Train/Parasite/C189P150ThinF_IMG_20151203_142113_cell_90.png  \n",
            " extracting: Dataset/Train/Parasite/C189P150ThinF_IMG_20151203_142113_cell_91.png  \n",
            " extracting: Dataset/Train/Parasite/C189P150ThinF_IMG_20151203_142113_cell_92.png  \n",
            " extracting: Dataset/Train/Parasite/C189P150ThinF_IMG_20151203_142224_cell_79.png  \n",
            " extracting: Dataset/Train/Parasite/C189P150ThinF_IMG_20151203_142224_cell_80.png  \n",
            " extracting: Dataset/Train/Parasite/C189P150ThinF_IMG_20151203_142224_cell_81.png  \n",
            " extracting: Dataset/Train/Parasite/C189P150ThinF_IMG_20151203_142224_cell_82.png  \n",
            " extracting: Dataset/Train/Parasite/C189P150ThinF_IMG_20151203_142224_cell_83.png  \n",
            " extracting: Dataset/Train/Parasite/C189P150ThinF_IMG_20151203_142224_cell_84.png  \n",
            " extracting: Dataset/Train/Parasite/C189P150ThinF_IMG_20151203_142224_cell_85.png  \n",
            " extracting: Dataset/Train/Parasite/C189P150ThinF_IMG_20151203_142224_cell_86.png  \n",
            " extracting: Dataset/Train/Parasite/C189P150ThinF_IMG_20151203_142224_cell_87.png  \n",
            " extracting: Dataset/Train/Parasite/C189P150ThinF_IMG_20151203_142224_cell_88.png  \n",
            " extracting: Dataset/Train/Parasite/C189P150ThinF_IMG_20151203_142224_cell_89.png  \n",
            " extracting: Dataset/Train/Parasite/C189P150ThinF_IMG_20151203_142224_cell_90.png  \n",
            " extracting: Dataset/Train/Parasite/C189P150ThinF_IMG_20151203_142224_cell_91.png  \n",
            " extracting: Dataset/Train/Parasite/C189P150ThinF_IMG_20151203_142224_cell_92.png  \n",
            " extracting: Dataset/Train/Parasite/C189P150ThinF_IMG_20151203_142224_cell_93.png  \n",
            " extracting: Dataset/Train/Parasite/C189P150ThinF_IMG_20151203_142224_cell_94.png  \n",
            " extracting: Dataset/Train/Parasite/C189P150ThinF_IMG_20151203_142224_cell_95.png  \n",
            " extracting: Dataset/Train/Parasite/C189P150ThinF_IMG_20151203_142224_cell_96.png  \n",
            " extracting: Dataset/Train/Parasite/C189P150ThinF_IMG_20151203_142224_cell_97.png  \n",
            " extracting: Dataset/Train/Parasite/C189P150ThinF_IMG_20151203_142224_cell_98.png  \n",
            "  inflating: Dataset/Train/Parasite/C33P1thinF_IMG_20150619_114756a_cell_179.png  \n",
            " extracting: Dataset/Train/Parasite/C33P1thinF_IMG_20150619_114756a_cell_180.png  \n",
            "  inflating: Dataset/Train/Parasite/C33P1thinF_IMG_20150619_114756a_cell_181.png  \n",
            "  inflating: Dataset/Train/Parasite/C33P1thinF_IMG_20150619_114756a_cell_182.png  \n",
            " extracting: Dataset/Train/Parasite/C33P1thinF_IMG_20150619_115740a_cell_161.png  \n",
            " extracting: Dataset/Train/Parasite/C33P1thinF_IMG_20150619_115740a_cell_162.png  \n",
            " extracting: Dataset/Train/Parasite/C33P1thinF_IMG_20150619_115740a_cell_163.png  \n",
            " extracting: Dataset/Train/Parasite/C33P1thinF_IMG_20150619_115808a_cell_205.png  \n",
            "  inflating: Dataset/Train/Parasite/C33P1thinF_IMG_20150619_115808a_cell_206.png  \n",
            " extracting: Dataset/Train/Parasite/C33P1thinF_IMG_20150619_120645a_cell_215.png  \n",
            " extracting: Dataset/Train/Parasite/C33P1thinF_IMG_20150619_120645a_cell_216.png  \n",
            " extracting: Dataset/Train/Parasite/C33P1thinF_IMG_20150619_120645a_cell_217.png  \n",
            " extracting: Dataset/Train/Parasite/C33P1thinF_IMG_20150619_120742a_cell_210.png  \n",
            " extracting: Dataset/Train/Parasite/C33P1thinF_IMG_20150619_120804a_cell_224.png  \n",
            " extracting: Dataset/Train/Parasite/C33P1thinF_IMG_20150619_120838a_cell_222.png  \n",
            " extracting: Dataset/Train/Parasite/C33P1thinF_IMG_20150619_121102a_cell_193.png  \n",
            " extracting: Dataset/Train/Parasite/C33P1thinF_IMG_20150619_121229a_cell_177.png  \n",
            " extracting: Dataset/Train/Parasite/C33P1thinF_IMG_20150619_121229a_cell_178.png  \n",
            " extracting: Dataset/Train/Parasite/C33P1thinF_IMG_20150619_121229a_cell_179.png  \n",
            " extracting: Dataset/Train/Parasite/C33P1thinF_IMG_20150619_121300a_cell_156.png  \n",
            " extracting: Dataset/Train/Parasite/C33P1thinF_IMG_20150619_121411a_cell_189.png  \n",
            " extracting: Dataset/Train/Parasite/C33P1thinF_IMG_20150619_121411a_cell_190.png  \n",
            " extracting: Dataset/Train/Parasite/C33P1thinF_IMG_20150619_121435a_cell_173.png  \n",
            " extracting: Dataset/Train/Parasite/C33P1thinF_IMG_20150619_121503a_cell_158.png  \n",
            " extracting: Dataset/Train/Parasite/C33P1thinF_IMG_20150619_121503a_cell_159.png  \n",
            "  inflating: Dataset/Train/Parasite/C37BP2_thinF_IMG_20150620_131423a_cell_92.png  \n",
            "  inflating: Dataset/Train/Parasite/C37BP2_thinF_IMG_20150620_131423a_cell_93.png  \n",
            "  inflating: Dataset/Train/Parasite/C37BP2_thinF_IMG_20150620_131423a_cell_94.png  \n",
            "  inflating: Dataset/Train/Parasite/C37BP2_thinF_IMG_20150620_132440a_cell_108.png  \n",
            " extracting: Dataset/Train/Parasite/C37BP2_thinF_IMG_20150620_132847a_cell_76.png  \n",
            " extracting: Dataset/Train/Parasite/C37BP2_thinF_IMG_20150620_132847a_cell_77.png  \n",
            "  inflating: Dataset/Train/Parasite/C37BP2_thinF_IMG_20150620_133001a_cell_76.png  \n",
            " extracting: Dataset/Train/Parasite/C37BP2_thinF_IMG_20150620_133001a_cell_77.png  \n",
            "  inflating: Dataset/Train/Parasite/C37BP2_thinF_IMG_20150620_133111a_cell_86.png  \n",
            "  inflating: Dataset/Train/Parasite/C37BP2_thinF_IMG_20150620_133111a_cell_87.png  \n",
            "  inflating: Dataset/Train/Parasite/C37BP2_thinF_IMG_20150620_133111a_cell_88.png  \n",
            "  inflating: Dataset/Train/Parasite/C37BP2_thinF_IMG_20150620_133205a_cell_87.png  \n",
            "  inflating: Dataset/Train/Parasite/C37BP2_thinF_IMG_20150620_133205a_cell_88.png  \n",
            " extracting: Dataset/Train/Parasite/C37BP2_thinF_IMG_20150620_133238a_cell_97.png  \n",
            "  inflating: Dataset/Train/Parasite/C38P3thinF_original_IMG_20150621_112043_cell_202.png  \n",
            " extracting: Dataset/Train/Parasite/C38P3thinF_original_IMG_20150621_112043_cell_203.png  \n",
            " extracting: Dataset/Train/Parasite/C38P3thinF_original_IMG_20150621_112116_cell_204.png  \n",
            " extracting: Dataset/Train/Parasite/C38P3thinF_original_IMG_20150621_112116_cell_205.png  \n",
            "  inflating: Dataset/Train/Parasite/C38P3thinF_original_IMG_20150621_112138_cell_183.png  \n",
            " extracting: Dataset/Train/Parasite/C38P3thinF_original_IMG_20150621_112246_cell_236.png  \n",
            " extracting: Dataset/Train/Parasite/C39P4thinF_original_IMG_20150622_105102_cell_100.png  \n",
            "  inflating: Dataset/Train/Parasite/C39P4thinF_original_IMG_20150622_105102_cell_101.png  \n",
            " extracting: Dataset/Train/Parasite/C39P4thinF_original_IMG_20150622_105102_cell_102.png  \n",
            " extracting: Dataset/Train/Parasite/C39P4thinF_original_IMG_20150622_105102_cell_103.png  \n",
            " extracting: Dataset/Train/Parasite/C39P4thinF_original_IMG_20150622_105102_cell_104.png  \n",
            " extracting: Dataset/Train/Parasite/C39P4thinF_original_IMG_20150622_105102_cell_105.png  \n",
            " extracting: Dataset/Train/Parasite/C39P4thinF_original_IMG_20150622_105102_cell_106.png  \n",
            " extracting: Dataset/Train/Parasite/C39P4thinF_original_IMG_20150622_105102_cell_107.png  \n",
            " extracting: Dataset/Train/Parasite/C39P4thinF_original_IMG_20150622_105102_cell_79.png  \n",
            " extracting: Dataset/Train/Parasite/C39P4thinF_original_IMG_20150622_105102_cell_80.png  \n",
            " extracting: Dataset/Train/Parasite/C39P4thinF_original_IMG_20150622_105102_cell_81.png  \n",
            " extracting: Dataset/Train/Parasite/C39P4thinF_original_IMG_20150622_105102_cell_82.png  \n",
            " extracting: Dataset/Train/Parasite/C39P4thinF_original_IMG_20150622_105102_cell_83.png  \n",
            " extracting: Dataset/Train/Parasite/C39P4thinF_original_IMG_20150622_105102_cell_84.png  \n",
            " extracting: Dataset/Train/Parasite/C39P4thinF_original_IMG_20150622_105102_cell_85.png  \n",
            " extracting: Dataset/Train/Parasite/C39P4thinF_original_IMG_20150622_105102_cell_86.png  \n",
            " extracting: Dataset/Train/Parasite/C39P4thinF_original_IMG_20150622_105102_cell_87.png  \n",
            " extracting: Dataset/Train/Parasite/C39P4thinF_original_IMG_20150622_105102_cell_88.png  \n",
            " extracting: Dataset/Train/Parasite/C39P4thinF_original_IMG_20150622_105102_cell_89.png  \n",
            " extracting: Dataset/Train/Parasite/C39P4thinF_original_IMG_20150622_105102_cell_90.png  \n",
            " extracting: Dataset/Train/Parasite/C39P4thinF_original_IMG_20150622_105102_cell_91.png  \n",
            " extracting: Dataset/Train/Parasite/C39P4thinF_original_IMG_20150622_105102_cell_92.png  \n",
            " extracting: Dataset/Train/Parasite/C39P4thinF_original_IMG_20150622_105102_cell_93.png  \n",
            " extracting: Dataset/Train/Parasite/C39P4thinF_original_IMG_20150622_105102_cell_94.png  \n",
            " extracting: Dataset/Train/Parasite/C39P4thinF_original_IMG_20150622_105102_cell_95.png  \n",
            " extracting: Dataset/Train/Parasite/C39P4thinF_original_IMG_20150622_105102_cell_96.png  \n",
            " extracting: Dataset/Train/Parasite/C39P4thinF_original_IMG_20150622_105102_cell_97.png  \n",
            " extracting: Dataset/Train/Parasite/C39P4thinF_original_IMG_20150622_105102_cell_98.png  \n",
            " extracting: Dataset/Train/Parasite/C39P4thinF_original_IMG_20150622_105102_cell_99.png  \n",
            " extracting: Dataset/Train/Parasite/C39P4thinF_original_IMG_20150622_105253_cell_100.png  \n",
            " extracting: Dataset/Train/Parasite/C39P4thinF_original_IMG_20150622_105253_cell_101.png  \n",
            " extracting: Dataset/Train/Parasite/C39P4thinF_original_IMG_20150622_105253_cell_102.png  \n",
            " extracting: Dataset/Train/Parasite/C39P4thinF_original_IMG_20150622_105253_cell_103.png  \n",
            " extracting: Dataset/Train/Parasite/C39P4thinF_original_IMG_20150622_105253_cell_104.png  \n",
            " extracting: Dataset/Train/Parasite/C39P4thinF_original_IMG_20150622_105253_cell_105.png  \n",
            " extracting: Dataset/Train/Parasite/C39P4thinF_original_IMG_20150622_105253_cell_106.png  \n",
            " extracting: Dataset/Train/Parasite/C39P4thinF_original_IMG_20150622_105253_cell_107.png  \n",
            " extracting: Dataset/Train/Parasite/C39P4thinF_original_IMG_20150622_105253_cell_108.png  \n",
            " extracting: Dataset/Train/Parasite/C39P4thinF_original_IMG_20150622_105253_cell_109.png  \n",
            " extracting: Dataset/Train/Parasite/C39P4thinF_original_IMG_20150622_105253_cell_110.png  \n",
            " extracting: Dataset/Train/Parasite/C39P4thinF_original_IMG_20150622_105253_cell_111.png  \n",
            "  inflating: Dataset/Train/Parasite/C39P4thinF_original_IMG_20150622_105253_cell_90.png  \n",
            " extracting: Dataset/Train/Parasite/C39P4thinF_original_IMG_20150622_105253_cell_91.png  \n",
            " extracting: Dataset/Train/Parasite/C39P4thinF_original_IMG_20150622_105253_cell_92.png  \n",
            " extracting: Dataset/Train/Parasite/C39P4thinF_original_IMG_20150622_105253_cell_93.png  \n",
            " extracting: Dataset/Train/Parasite/C39P4thinF_original_IMG_20150622_105253_cell_94.png  \n",
            " extracting: Dataset/Train/Parasite/C39P4thinF_original_IMG_20150622_105253_cell_95.png  \n",
            " extracting: Dataset/Train/Parasite/C39P4thinF_original_IMG_20150622_105253_cell_96.png  \n",
            " extracting: Dataset/Train/Parasite/C39P4thinF_original_IMG_20150622_105253_cell_97.png  \n",
            " extracting: Dataset/Train/Parasite/C39P4thinF_original_IMG_20150622_105253_cell_98.png  \n",
            " extracting: Dataset/Train/Parasite/C39P4thinF_original_IMG_20150622_105253_cell_99.png  \n",
            " extracting: Dataset/Train/Parasite/C39P4thinF_original_IMG_20150622_105335_cell_1.png  \n",
            " extracting: Dataset/Train/Parasite/C39P4thinF_original_IMG_20150622_105335_cell_10.png  \n",
            " extracting: Dataset/Train/Parasite/C39P4thinF_original_IMG_20150622_105335_cell_11.png  \n",
            " extracting: Dataset/Train/Parasite/C39P4thinF_original_IMG_20150622_105335_cell_12.png  \n",
            " extracting: Dataset/Train/Parasite/C39P4thinF_original_IMG_20150622_105335_cell_13.png  \n",
            " extracting: Dataset/Train/Parasite/C39P4thinF_original_IMG_20150622_105335_cell_14.png  \n",
            " extracting: Dataset/Train/Parasite/C39P4thinF_original_IMG_20150622_105335_cell_15.png  \n",
            " extracting: Dataset/Train/Parasite/C39P4thinF_original_IMG_20150622_105335_cell_16.png  \n",
            " extracting: Dataset/Train/Parasite/C39P4thinF_original_IMG_20150622_105335_cell_17.png  \n",
            " extracting: Dataset/Train/Parasite/C39P4thinF_original_IMG_20150622_105335_cell_18.png  \n",
            " extracting: Dataset/Train/Parasite/C39P4thinF_original_IMG_20150622_105335_cell_19.png  \n",
            " extracting: Dataset/Train/Parasite/C39P4thinF_original_IMG_20150622_105335_cell_2.png  \n",
            " extracting: Dataset/Train/Parasite/C39P4thinF_original_IMG_20150622_105335_cell_20.png  \n",
            " extracting: Dataset/Train/Parasite/C39P4thinF_original_IMG_20150622_105335_cell_21.png  \n",
            " extracting: Dataset/Train/Parasite/C39P4thinF_original_IMG_20150622_105335_cell_22.png  \n",
            " extracting: Dataset/Train/Parasite/C39P4thinF_original_IMG_20150622_105335_cell_23.png  \n",
            " extracting: Dataset/Train/Parasite/C39P4thinF_original_IMG_20150622_105335_cell_24.png  \n",
            " extracting: Dataset/Train/Parasite/C39P4thinF_original_IMG_20150622_105335_cell_25.png  \n",
            "  inflating: Dataset/Train/Parasite/C39P4thinF_original_IMG_20150622_105335_cell_26.png  \n",
            " extracting: Dataset/Train/Parasite/C39P4thinF_original_IMG_20150622_105335_cell_27.png  \n",
            " extracting: Dataset/Train/Parasite/C39P4thinF_original_IMG_20150622_105335_cell_28.png  \n",
            "  inflating: Dataset/Train/Parasite/C39P4thinF_original_IMG_20150622_105335_cell_29.png  \n",
            " extracting: Dataset/Train/Parasite/C39P4thinF_original_IMG_20150622_105335_cell_3.png  \n",
            " extracting: Dataset/Train/Parasite/C39P4thinF_original_IMG_20150622_105335_cell_30.png  \n",
            " extracting: Dataset/Train/Parasite/C39P4thinF_original_IMG_20150622_105335_cell_31.png  \n",
            " extracting: Dataset/Train/Parasite/C39P4thinF_original_IMG_20150622_105335_cell_32.png  \n",
            " extracting: Dataset/Train/Parasite/C39P4thinF_original_IMG_20150622_105335_cell_4.png  \n",
            " extracting: Dataset/Train/Parasite/C39P4thinF_original_IMG_20150622_105335_cell_5.png  \n",
            " extracting: Dataset/Train/Parasite/C39P4thinF_original_IMG_20150622_105335_cell_6.png  \n",
            " extracting: Dataset/Train/Parasite/C39P4thinF_original_IMG_20150622_105335_cell_7.png  \n",
            " extracting: Dataset/Train/Parasite/C39P4thinF_original_IMG_20150622_105335_cell_8.png  \n",
            " extracting: Dataset/Train/Parasite/C39P4thinF_original_IMG_20150622_105335_cell_9.png  \n",
            " extracting: Dataset/Train/Parasite/C39P4thinF_original_IMG_20150622_105554_cell_1.png  \n",
            " extracting: Dataset/Train/Parasite/C39P4thinF_original_IMG_20150622_105554_cell_2.png  \n",
            " extracting: Dataset/Train/Parasite/C39P4thinF_original_IMG_20150622_105554_cell_3.png  \n",
            " extracting: Dataset/Train/Parasite/C39P4thinF_original_IMG_20150622_105554_cell_4.png  \n",
            "   creating: Dataset/Train/Uninfected/\n",
            " extracting: Dataset/Train/Uninfected/C1_thinF_IMG_20150604_104722_cell_115.png  \n",
            " extracting: Dataset/Train/Uninfected/C1_thinF_IMG_20150604_104722_cell_123.png  \n",
            " extracting: Dataset/Train/Uninfected/C1_thinF_IMG_20150604_104722_cell_143.png  \n",
            " extracting: Dataset/Train/Uninfected/C1_thinF_IMG_20150604_104722_cell_15.png  \n",
            " extracting: Dataset/Train/Uninfected/C1_thinF_IMG_20150604_104722_cell_164.png  \n",
            " extracting: Dataset/Train/Uninfected/C1_thinF_IMG_20150604_104722_cell_191.png  \n",
            " extracting: Dataset/Train/Uninfected/C1_thinF_IMG_20150604_104722_cell_211.png  \n",
            " extracting: Dataset/Train/Uninfected/C1_thinF_IMG_20150604_104722_cell_216.png  \n",
            " extracting: Dataset/Train/Uninfected/C1_thinF_IMG_20150604_104722_cell_231.png  \n",
            " extracting: Dataset/Train/Uninfected/C1_thinF_IMG_20150604_104722_cell_242.png  \n",
            " extracting: Dataset/Train/Uninfected/C1_thinF_IMG_20150604_104722_cell_248.png  \n",
            " extracting: Dataset/Train/Uninfected/C1_thinF_IMG_20150604_104722_cell_60.png  \n",
            " extracting: Dataset/Train/Uninfected/C1_thinF_IMG_20150604_104722_cell_66.png  \n",
            " extracting: Dataset/Train/Uninfected/C1_thinF_IMG_20150604_104722_cell_73.png  \n",
            " extracting: Dataset/Train/Uninfected/C1_thinF_IMG_20150604_104722_cell_79.png  \n",
            " extracting: Dataset/Train/Uninfected/C1_thinF_IMG_20150604_104722_cell_81.png  \n",
            " extracting: Dataset/Train/Uninfected/C1_thinF_IMG_20150604_104722_cell_9.png  \n",
            " extracting: Dataset/Train/Uninfected/C1_thinF_IMG_20150604_104919_cell_123.png  \n",
            " extracting: Dataset/Train/Uninfected/C1_thinF_IMG_20150604_104919_cell_132.png  \n",
            " extracting: Dataset/Train/Uninfected/C1_thinF_IMG_20150604_104919_cell_134.png  \n",
            " extracting: Dataset/Train/Uninfected/C1_thinF_IMG_20150604_104919_cell_157.png  \n",
            " extracting: Dataset/Train/Uninfected/C1_thinF_IMG_20150604_104919_cell_163.png  \n",
            " extracting: Dataset/Train/Uninfected/C1_thinF_IMG_20150604_104919_cell_164.png  \n",
            " extracting: Dataset/Train/Uninfected/C1_thinF_IMG_20150604_104919_cell_173.png  \n",
            " extracting: Dataset/Train/Uninfected/C1_thinF_IMG_20150604_104919_cell_178.png  \n",
            " extracting: Dataset/Train/Uninfected/C1_thinF_IMG_20150604_104919_cell_183.png  \n",
            " extracting: Dataset/Train/Uninfected/C1_thinF_IMG_20150604_104919_cell_189.png  \n",
            " extracting: Dataset/Train/Uninfected/C1_thinF_IMG_20150604_104919_cell_199.png  \n",
            " extracting: Dataset/Train/Uninfected/C1_thinF_IMG_20150604_104919_cell_224.png  \n",
            " extracting: Dataset/Train/Uninfected/C1_thinF_IMG_20150604_104919_cell_240.png  \n",
            " extracting: Dataset/Train/Uninfected/C1_thinF_IMG_20150604_104919_cell_31.png  \n",
            " extracting: Dataset/Train/Uninfected/C1_thinF_IMG_20150604_104919_cell_82.png  \n",
            " extracting: Dataset/Train/Uninfected/C1_thinF_IMG_20150604_104919_cell_84.png  \n",
            " extracting: Dataset/Train/Uninfected/C1_thinF_IMG_20150604_104919_cell_86.png  \n",
            " extracting: Dataset/Train/Uninfected/C1_thinF_IMG_20150604_104919_cell_96.png  \n",
            " extracting: Dataset/Train/Uninfected/C1_thinF_IMG_20150604_104942_cell_102.png  \n",
            " extracting: Dataset/Train/Uninfected/C1_thinF_IMG_20150604_104942_cell_11.png  \n",
            " extracting: Dataset/Train/Uninfected/C1_thinF_IMG_20150604_104942_cell_139.png  \n",
            " extracting: Dataset/Train/Uninfected/C1_thinF_IMG_20150604_104942_cell_151.png  \n",
            " extracting: Dataset/Train/Uninfected/C1_thinF_IMG_20150604_104942_cell_152.png  \n",
            " extracting: Dataset/Train/Uninfected/C1_thinF_IMG_20150604_104942_cell_154.png  \n",
            " extracting: Dataset/Train/Uninfected/C1_thinF_IMG_20150604_104942_cell_156.png  \n",
            " extracting: Dataset/Train/Uninfected/C1_thinF_IMG_20150604_104942_cell_168.png  \n",
            " extracting: Dataset/Train/Uninfected/C1_thinF_IMG_20150604_104942_cell_185.png  \n",
            " extracting: Dataset/Train/Uninfected/C1_thinF_IMG_20150604_104942_cell_20.png  \n",
            " extracting: Dataset/Train/Uninfected/C1_thinF_IMG_20150604_104942_cell_203.png  \n",
            " extracting: Dataset/Train/Uninfected/C1_thinF_IMG_20150604_104942_cell_209.png  \n",
            " extracting: Dataset/Train/Uninfected/C1_thinF_IMG_20150604_104942_cell_218.png  \n",
            " extracting: Dataset/Train/Uninfected/C1_thinF_IMG_20150604_104942_cell_269.png  \n",
            " extracting: Dataset/Train/Uninfected/C1_thinF_IMG_20150604_104942_cell_4.png  \n",
            " extracting: Dataset/Train/Uninfected/C1_thinF_IMG_20150604_104942_cell_59.png  \n",
            " extracting: Dataset/Train/Uninfected/C1_thinF_IMG_20150604_104942_cell_72.png  \n",
            " extracting: Dataset/Train/Uninfected/C1_thinF_IMG_20150604_104942_cell_98.png  \n",
            " extracting: Dataset/Train/Uninfected/C1_thinF_IMG_20150604_105100_cell_130.png  \n",
            " extracting: Dataset/Train/Uninfected/C1_thinF_IMG_20150604_105100_cell_134.png  \n",
            " extracting: Dataset/Train/Uninfected/C1_thinF_IMG_20150604_105100_cell_151.png  \n",
            " extracting: Dataset/Train/Uninfected/C1_thinF_IMG_20150604_105100_cell_152.png  \n",
            " extracting: Dataset/Train/Uninfected/C1_thinF_IMG_20150604_105100_cell_157.png  \n",
            " extracting: Dataset/Train/Uninfected/C1_thinF_IMG_20150604_105100_cell_180.png  \n",
            " extracting: Dataset/Train/Uninfected/C1_thinF_IMG_20150604_105100_cell_186.png  \n",
            " extracting: Dataset/Train/Uninfected/C1_thinF_IMG_20150604_105100_cell_201.png  \n",
            "  inflating: Dataset/Train/Uninfected/C1_thinF_IMG_20150604_105100_cell_211.png  \n",
            " extracting: Dataset/Train/Uninfected/C1_thinF_IMG_20150604_105100_cell_213.png  \n",
            " extracting: Dataset/Train/Uninfected/C1_thinF_IMG_20150604_105100_cell_232.png  \n",
            " extracting: Dataset/Train/Uninfected/C1_thinF_IMG_20150604_105100_cell_243.png  \n",
            " extracting: Dataset/Train/Uninfected/C1_thinF_IMG_20150604_105100_cell_275.png  \n",
            " extracting: Dataset/Train/Uninfected/C1_thinF_IMG_20150604_105100_cell_277.png  \n",
            " extracting: Dataset/Train/Uninfected/C1_thinF_IMG_20150604_105100_cell_43.png  \n",
            " extracting: Dataset/Train/Uninfected/C1_thinF_IMG_20150604_105100_cell_53.png  \n",
            " extracting: Dataset/Train/Uninfected/C1_thinF_IMG_20150604_105100_cell_69.png  \n",
            " extracting: Dataset/Train/Uninfected/C241NThinF_IMG_20151207_124240_cell_169.png  \n",
            " extracting: Dataset/Train/Uninfected/C241NThinF_IMG_20151207_124358_cell_119.png  \n",
            "  inflating: Dataset/Train/Uninfected/C241NThinF_IMG_20151207_124358_cell_130.png  \n",
            "  inflating: Dataset/Train/Uninfected/C241NThinF_IMG_20151207_124358_cell_137.png  \n",
            "  inflating: Dataset/Train/Uninfected/C241NThinF_IMG_20151207_124358_cell_144.png  \n",
            " extracting: Dataset/Train/Uninfected/C241NThinF_IMG_20151207_124358_cell_149.png  \n",
            " extracting: Dataset/Train/Uninfected/C241NThinF_IMG_20151207_124358_cell_35.png  \n",
            " extracting: Dataset/Train/Uninfected/C241NThinF_IMG_20151207_124358_cell_73.png  \n",
            " extracting: Dataset/Train/Uninfected/C241NThinF_IMG_20151207_124358_cell_82.png  \n",
            " extracting: Dataset/Train/Uninfected/C241NThinF_IMG_20151207_124358_cell_84.png  \n",
            " extracting: Dataset/Train/Uninfected/C241NThinF_IMG_20151207_124358_cell_91.png  \n",
            " extracting: Dataset/Train/Uninfected/C241NThinF_IMG_20151207_124608_cell_104.png  \n",
            " extracting: Dataset/Train/Uninfected/C241NThinF_IMG_20151207_124608_cell_120.png  \n",
            " extracting: Dataset/Train/Uninfected/C241NThinF_IMG_20151207_124608_cell_125.png  \n",
            " extracting: Dataset/Train/Uninfected/C241NThinF_IMG_20151207_124608_cell_171.png  \n",
            " extracting: Dataset/Train/Uninfected/C241NThinF_IMG_20151207_124608_cell_22.png  \n",
            "  inflating: Dataset/Train/Uninfected/C241NThinF_IMG_20151207_124608_cell_30.png  \n",
            " extracting: Dataset/Train/Uninfected/C241NThinF_IMG_20151207_124608_cell_40.png  \n",
            " extracting: Dataset/Train/Uninfected/C241NThinF_IMG_20151207_124608_cell_51.png  \n",
            " extracting: Dataset/Train/Uninfected/C241NThinF_IMG_20151207_124608_cell_61.png  \n",
            "  inflating: Dataset/Train/Uninfected/C241NThinF_IMG_20151207_124608_cell_90.png  \n",
            " extracting: Dataset/Train/Uninfected/C241NThinF_IMG_20151207_124643_cell_125.png  \n",
            " extracting: Dataset/Train/Uninfected/C241NThinF_IMG_20151207_124643_cell_136.png  \n",
            " extracting: Dataset/Train/Uninfected/C241NThinF_IMG_20151207_124643_cell_158.png  \n",
            " extracting: Dataset/Train/Uninfected/C241NThinF_IMG_20151207_124643_cell_169.png  \n",
            " extracting: Dataset/Train/Uninfected/C241NThinF_IMG_20151207_124643_cell_25.png  \n",
            " extracting: Dataset/Train/Uninfected/C241NThinF_IMG_20151207_124643_cell_26.png  \n",
            " extracting: Dataset/Train/Uninfected/C241NThinF_IMG_20151207_124643_cell_45.png  \n",
            "  inflating: Dataset/Train/Uninfected/C241NThinF_IMG_20151207_124643_cell_46.png  \n",
            " extracting: Dataset/Train/Uninfected/C241NThinF_IMG_20151207_124643_cell_91.png  \n",
            " extracting: Dataset/Train/Uninfected/C241NThinF_IMG_20151207_124643_cell_96.png  \n",
            " extracting: Dataset/Train/Uninfected/C2NThinF_IMG_20150604_114631_cell_141.png  \n",
            " extracting: Dataset/Train/Uninfected/C2NThinF_IMG_20150604_114631_cell_144.png  \n",
            " extracting: Dataset/Train/Uninfected/C2NThinF_IMG_20150604_114631_cell_150.png  \n",
            " extracting: Dataset/Train/Uninfected/C2NThinF_IMG_20150604_114631_cell_155.png  \n",
            " extracting: Dataset/Train/Uninfected/C2NThinF_IMG_20150604_114631_cell_187.png  \n",
            " extracting: Dataset/Train/Uninfected/C2NThinF_IMG_20150604_114631_cell_204.png  \n",
            " extracting: Dataset/Train/Uninfected/C2NThinF_IMG_20150604_114631_cell_214.png  \n",
            " extracting: Dataset/Train/Uninfected/C2NThinF_IMG_20150604_114631_cell_215.png  \n",
            " extracting: Dataset/Train/Uninfected/C2NThinF_IMG_20150604_114631_cell_38.png  \n",
            " extracting: Dataset/Train/Uninfected/C2NThinF_IMG_20150604_114631_cell_52.png  \n",
            " extracting: Dataset/Train/Uninfected/C2NThinF_IMG_20150604_114631_cell_72.png  \n",
            " extracting: Dataset/Train/Uninfected/C2NThinF_IMG_20150604_114631_cell_74.png  \n",
            " extracting: Dataset/Train/Uninfected/C2NThinF_IMG_20150604_114631_cell_84.png  \n",
            " extracting: Dataset/Train/Uninfected/C2NThinF_IMG_20150604_114631_cell_99.png  \n",
            " extracting: Dataset/Train/Uninfected/C2NThinF_IMG_20150604_114730_cell_113.png  \n",
            " extracting: Dataset/Train/Uninfected/C2NThinF_IMG_20150604_114730_cell_12.png  \n",
            " extracting: Dataset/Train/Uninfected/C2NThinF_IMG_20150604_114730_cell_124.png  \n",
            " extracting: Dataset/Train/Uninfected/C2NThinF_IMG_20150604_114730_cell_13.png  \n",
            " extracting: Dataset/Train/Uninfected/C2NThinF_IMG_20150604_114730_cell_139.png  \n",
            " extracting: Dataset/Train/Uninfected/C2NThinF_IMG_20150604_114730_cell_161.png  \n",
            " extracting: Dataset/Train/Uninfected/C2NThinF_IMG_20150604_114730_cell_172.png  \n",
            " extracting: Dataset/Train/Uninfected/C2NThinF_IMG_20150604_114730_cell_173.png  \n",
            " extracting: Dataset/Train/Uninfected/C2NThinF_IMG_20150604_114730_cell_178.png  \n",
            " extracting: Dataset/Train/Uninfected/C2NThinF_IMG_20150604_114730_cell_183.png  \n",
            " extracting: Dataset/Train/Uninfected/C2NThinF_IMG_20150604_114730_cell_36.png  \n",
            " extracting: Dataset/Train/Uninfected/C2NThinF_IMG_20150604_114730_cell_72.png  \n",
            " extracting: Dataset/Train/Uninfected/C2NThinF_IMG_20150604_114730_cell_98.png  \n",
            " extracting: Dataset/Train/Uninfected/C2NThinF_IMG_20150604_114751_cell_101.png  \n",
            " extracting: Dataset/Train/Uninfected/C2NThinF_IMG_20150604_114751_cell_106.png  \n",
            " extracting: Dataset/Train/Uninfected/C2NThinF_IMG_20150604_114751_cell_107.png  \n",
            " extracting: Dataset/Train/Uninfected/C2NThinF_IMG_20150604_114751_cell_113.png  \n",
            " extracting: Dataset/Train/Uninfected/C2NThinF_IMG_20150604_114751_cell_127.png  \n",
            " extracting: Dataset/Train/Uninfected/C2NThinF_IMG_20150604_114751_cell_142.png  \n",
            " extracting: Dataset/Train/Uninfected/C2NThinF_IMG_20150604_114751_cell_181.png  \n",
            " extracting: Dataset/Train/Uninfected/C2NThinF_IMG_20150604_114751_cell_197.png  \n",
            " extracting: Dataset/Train/Uninfected/C2NThinF_IMG_20150604_114751_cell_217.png  \n",
            " extracting: Dataset/Train/Uninfected/C2NThinF_IMG_20150604_114751_cell_221.png  \n",
            " extracting: Dataset/Train/Uninfected/C2NThinF_IMG_20150604_114751_cell_38.png  \n",
            " extracting: Dataset/Train/Uninfected/C2NThinF_IMG_20150604_114751_cell_69.png  \n",
            " extracting: Dataset/Train/Uninfected/C2NThinF_IMG_20150604_114751_cell_92.png  \n",
            " extracting: Dataset/Train/Uninfected/C2NThinF_IMG_20150604_114751_cell_93.png  \n",
            " extracting: Dataset/Train/Uninfected/C2NThinF_IMG_20150604_114815_cell_107.png  \n",
            " extracting: Dataset/Train/Uninfected/C2NThinF_IMG_20150604_114815_cell_128.png  \n",
            " extracting: Dataset/Train/Uninfected/C2NThinF_IMG_20150604_114815_cell_142.png  \n",
            " extracting: Dataset/Train/Uninfected/C2NThinF_IMG_20150604_114815_cell_217.png  \n",
            " extracting: Dataset/Train/Uninfected/C2NThinF_IMG_20150604_114815_cell_232.png  \n",
            " extracting: Dataset/Train/Uninfected/C2NThinF_IMG_20150604_114815_cell_233.png  \n",
            " extracting: Dataset/Train/Uninfected/C2NThinF_IMG_20150604_114815_cell_235.png  \n",
            " extracting: Dataset/Train/Uninfected/C2NThinF_IMG_20150604_114815_cell_242.png  \n",
            " extracting: Dataset/Train/Uninfected/C2NThinF_IMG_20150604_114815_cell_6.png  \n",
            " extracting: Dataset/Train/Uninfected/C2NThinF_IMG_20150604_114815_cell_62.png  \n",
            " extracting: Dataset/Train/Uninfected/C2NThinF_IMG_20150604_114815_cell_66.png  \n",
            " extracting: Dataset/Train/Uninfected/C2NThinF_IMG_20150604_114815_cell_73.png  \n",
            " extracting: Dataset/Train/Uninfected/C2NThinF_IMG_20150604_114815_cell_9.png  \n",
            " extracting: Dataset/Train/Uninfected/C2NThinF_IMG_20150604_114815_cell_95.png  \n",
            " extracting: Dataset/Train/Uninfected/C2NThinF_IMG_20150604_115238_cell_115.png  \n",
            " extracting: Dataset/Train/Uninfected/C2NThinF_IMG_20150604_115238_cell_117.png  \n",
            " extracting: Dataset/Train/Uninfected/C2NThinF_IMG_20150604_115238_cell_126.png  \n",
            " extracting: Dataset/Train/Uninfected/C2NThinF_IMG_20150604_115238_cell_13.png  \n",
            " extracting: Dataset/Train/Uninfected/C2NThinF_IMG_20150604_115238_cell_133.png  \n",
            " extracting: Dataset/Train/Uninfected/C2NThinF_IMG_20150604_115238_cell_138.png  \n",
            " extracting: Dataset/Train/Uninfected/C2NThinF_IMG_20150604_115238_cell_196.png  \n",
            " extracting: Dataset/Train/Uninfected/C3thin_original_IMG_20150608_163002_cell_159.png  \n",
            " extracting: Dataset/Train/Uninfected/C3thin_original_IMG_20150608_163002_cell_195.png  \n",
            " extracting: Dataset/Train/Uninfected/C3thin_original_IMG_20150608_163029_cell_1.png  \n",
            " extracting: Dataset/Train/Uninfected/C3thin_original_IMG_20150608_163029_cell_109.png  \n",
            " extracting: Dataset/Train/Uninfected/C3thin_original_IMG_20150608_163029_cell_121.png  \n",
            " extracting: Dataset/Train/Uninfected/C3thin_original_IMG_20150608_163029_cell_125.png  \n",
            " extracting: Dataset/Train/Uninfected/C3thin_original_IMG_20150608_163029_cell_156.png  \n",
            " extracting: Dataset/Train/Uninfected/C3thin_original_IMG_20150608_163029_cell_166.png  \n",
            " extracting: Dataset/Train/Uninfected/C3thin_original_IMG_20150608_163029_cell_186.png  \n",
            " extracting: Dataset/Train/Uninfected/C3thin_original_IMG_20150608_163029_cell_202.png  \n",
            " extracting: Dataset/Train/Uninfected/C3thin_original_IMG_20150608_163029_cell_220.png  \n",
            " extracting: Dataset/Train/Uninfected/C3thin_original_IMG_20150608_163029_cell_44.png  \n",
            " extracting: Dataset/Train/Uninfected/C3thin_original_IMG_20150608_163029_cell_52.png  \n",
            " extracting: Dataset/Train/Uninfected/C3thin_original_IMG_20150608_163029_cell_57.png  \n",
            " extracting: Dataset/Train/Uninfected/C3thin_original_IMG_20150608_163029_cell_80.png  \n",
            " extracting: Dataset/Train/Uninfected/C3thin_original_IMG_20150608_163029_cell_83.png  \n",
            " extracting: Dataset/Train/Uninfected/C3thin_original_IMG_20150608_163047_cell_103.png  \n",
            " extracting: Dataset/Train/Uninfected/C3thin_original_IMG_20150608_163047_cell_145.png  \n",
            " extracting: Dataset/Train/Uninfected/C3thin_original_IMG_20150608_163047_cell_147.png  \n",
            " extracting: Dataset/Train/Uninfected/C3thin_original_IMG_20150608_163047_cell_161.png  \n",
            " extracting: Dataset/Train/Uninfected/C3thin_original_IMG_20150608_163047_cell_168.png  \n",
            " extracting: Dataset/Train/Uninfected/C3thin_original_IMG_20150608_163047_cell_183.png  \n",
            " extracting: Dataset/Train/Uninfected/C3thin_original_IMG_20150608_163047_cell_192.png  \n",
            " extracting: Dataset/Train/Uninfected/C3thin_original_IMG_20150608_163047_cell_212.png  \n",
            " extracting: Dataset/Train/Uninfected/C3thin_original_IMG_20150608_163047_cell_214.png  \n",
            " extracting: Dataset/Train/Uninfected/C3thin_original_IMG_20150608_163047_cell_215.png  \n",
            " extracting: Dataset/Train/Uninfected/C3thin_original_IMG_20150608_163047_cell_22.png  \n",
            " extracting: Dataset/Train/Uninfected/C3thin_original_IMG_20150608_163047_cell_236.png  \n",
            " extracting: Dataset/Train/Uninfected/C3thin_original_IMG_20150608_163047_cell_26.png  \n",
            " extracting: Dataset/Train/Uninfected/C3thin_original_IMG_20150608_163047_cell_36.png  \n",
            " extracting: Dataset/Train/Uninfected/C4thin_original_IMG_20150608_165540_cell_19.png  \n",
            " extracting: Dataset/Train/Uninfected/C4thin_original_IMG_20150608_165540_cell_50.png  \n",
            " extracting: Dataset/Train/Uninfected/C4thin_original_IMG_20150608_165540_cell_52.png  \n"
          ]
        }
      ]
    },
    {
      "cell_type": "code",
      "source": [
        "import os\n",
        "os.listdir('/content/Dataset')"
      ],
      "metadata": {
        "colab": {
          "base_uri": "https://localhost:8080/"
        },
        "id": "Utt6xewsSpyd",
        "outputId": "4affed8a-e1a7-480e-d7d4-6ca316198bb2"
      },
      "execution_count": 19,
      "outputs": [
        {
          "output_type": "execute_result",
          "data": {
            "text/plain": [
              "['Test', 'Train']"
            ]
          },
          "metadata": {},
          "execution_count": 19
        }
      ]
    },
    {
      "cell_type": "code",
      "source": [
        "os.listdir('/content/Dataset/Train')"
      ],
      "metadata": {
        "colab": {
          "base_uri": "https://localhost:8080/"
        },
        "id": "5ARnH9doUPtF",
        "outputId": "65a51613-8a88-4cfd-cc40-080598470fac"
      },
      "execution_count": 20,
      "outputs": [
        {
          "output_type": "execute_result",
          "data": {
            "text/plain": [
              "['Parasite', 'Uninfected']"
            ]
          },
          "metadata": {},
          "execution_count": 20
        }
      ]
    },
    {
      "cell_type": "code",
      "source": [],
      "metadata": {
        "id": "ILBiIZhWS0pR"
      },
      "execution_count": null,
      "outputs": []
    },
    {
      "cell_type": "code",
      "source": [
        "# re-size all the images to this\n",
        "IMAGE_SIZE = [224, 224]\n",
        "\n",
        "train_path = '/content/Dataset/Train'\n",
        "valid_path = '/content/Dataset/Test'"
      ],
      "metadata": {
        "id": "b3RFmiCMn-vf"
      },
      "execution_count": 21,
      "outputs": []
    },
    {
      "cell_type": "code",
      "source": [
        "# Import the Vgg 16 library as shown below and add preprocessing layer to the front of VGG\n",
        "# Here we will be using imagenet weights\n",
        "vgg19 = VGG19(input_shape=IMAGE_SIZE + [3], weights='imagenet', include_top=False)"
      ],
      "metadata": {
        "id": "cuSv4GlMPcrP",
        "colab": {
          "base_uri": "https://localhost:8080/"
        },
        "outputId": "a72206f9-edf4-45f0-d3fb-bc946abc0c81"
      },
      "execution_count": 22,
      "outputs": [
        {
          "output_type": "stream",
          "name": "stdout",
          "text": [
            "Downloading data from https://storage.googleapis.com/tensorflow/keras-applications/vgg19/vgg19_weights_tf_dim_ordering_tf_kernels_notop.h5\n",
            "80134624/80134624 [==============================] - 5s 0us/step\n"
          ]
        }
      ]
    },
    {
      "cell_type": "code",
      "source": [
        "# don't train existing weights\n",
        "for layer in mobilnet.layers:\n",
        "    layer.trainable = False"
      ],
      "metadata": {
        "id": "AGb8zv6YPp3Q"
      },
      "execution_count": 23,
      "outputs": []
    },
    {
      "cell_type": "code",
      "source": [
        " # useful for getting number of output classes\n",
        "folders = glob('/content/Dataset/Train/*')"
      ],
      "metadata": {
        "id": "qEtIuYU6P7-_"
      },
      "execution_count": 24,
      "outputs": []
    },
    {
      "cell_type": "code",
      "source": [
        "folders"
      ],
      "metadata": {
        "colab": {
          "base_uri": "https://localhost:8080/"
        },
        "id": "_gLH7qz_QB66",
        "outputId": "c83b3c87-42bd-424d-c20d-32a1e2328a22"
      },
      "execution_count": 25,
      "outputs": [
        {
          "output_type": "execute_result",
          "data": {
            "text/plain": [
              "['/content/Dataset/Train/Parasite', '/content/Dataset/Train/Uninfected']"
            ]
          },
          "metadata": {},
          "execution_count": 25
        }
      ]
    },
    {
      "cell_type": "code",
      "source": [
        "os.listdir('/content/Dataset/Train/Uninfected')"
      ],
      "metadata": {
        "colab": {
          "base_uri": "https://localhost:8080/"
        },
        "id": "Xx8HCDHmhK_g",
        "outputId": "8ca03e65-5f8b-47f1-c20c-a99cca277901"
      },
      "execution_count": 44,
      "outputs": [
        {
          "output_type": "execute_result",
          "data": {
            "text/plain": [
              "['C1_thinF_IMG_20150604_104919_cell_82.png',\n",
              " 'C1_thinF_IMG_20150604_104942_cell_20.png',\n",
              " 'C2NThinF_IMG_20150604_114815_cell_66.png',\n",
              " 'C241NThinF_IMG_20151207_124358_cell_144.png',\n",
              " 'C3thin_original_IMG_20150608_163047_cell_236.png',\n",
              " 'C1_thinF_IMG_20150604_105100_cell_69.png',\n",
              " 'C3thin_original_IMG_20150608_163029_cell_121.png',\n",
              " 'C2NThinF_IMG_20150604_114815_cell_9.png',\n",
              " 'C241NThinF_IMG_20151207_124358_cell_130.png',\n",
              " 'C241NThinF_IMG_20151207_124358_cell_35.png',\n",
              " 'C241NThinF_IMG_20151207_124358_cell_73.png',\n",
              " 'C1_thinF_IMG_20150604_105100_cell_186.png',\n",
              " 'C2NThinF_IMG_20150604_114751_cell_197.png',\n",
              " 'C2NThinF_IMG_20150604_115238_cell_126.png',\n",
              " 'C1_thinF_IMG_20150604_104722_cell_66.png',\n",
              " 'C241NThinF_IMG_20151207_124643_cell_46.png',\n",
              " 'C2NThinF_IMG_20150604_114815_cell_242.png',\n",
              " 'C2NThinF_IMG_20150604_114751_cell_181.png',\n",
              " 'C2NThinF_IMG_20150604_114751_cell_106.png',\n",
              " 'C241NThinF_IMG_20151207_124240_cell_169.png',\n",
              " 'C3thin_original_IMG_20150608_163047_cell_212.png',\n",
              " 'C1_thinF_IMG_20150604_105100_cell_277.png',\n",
              " 'C2NThinF_IMG_20150604_114631_cell_84.png',\n",
              " 'C241NThinF_IMG_20151207_124608_cell_30.png',\n",
              " 'C2NThinF_IMG_20150604_114730_cell_36.png',\n",
              " 'C1_thinF_IMG_20150604_104942_cell_152.png',\n",
              " 'C3thin_original_IMG_20150608_163029_cell_109.png',\n",
              " 'C1_thinF_IMG_20150604_104722_cell_15.png',\n",
              " 'C1_thinF_IMG_20150604_105100_cell_151.png',\n",
              " 'C2NThinF_IMG_20150604_114631_cell_52.png',\n",
              " 'C1_thinF_IMG_20150604_104942_cell_98.png',\n",
              " 'C1_thinF_IMG_20150604_104942_cell_72.png',\n",
              " 'C1_thinF_IMG_20150604_104919_cell_31.png',\n",
              " 'C1_thinF_IMG_20150604_104942_cell_203.png',\n",
              " 'C4thin_original_IMG_20150608_165540_cell_52.png',\n",
              " 'C1_thinF_IMG_20150604_104919_cell_157.png',\n",
              " 'C241NThinF_IMG_20151207_124643_cell_45.png',\n",
              " 'C3thin_original_IMG_20150608_163047_cell_36.png',\n",
              " 'C1_thinF_IMG_20150604_104919_cell_84.png',\n",
              " 'C1_thinF_IMG_20150604_105100_cell_211.png',\n",
              " 'C2NThinF_IMG_20150604_115238_cell_196.png',\n",
              " 'C4thin_original_IMG_20150608_165540_cell_50.png',\n",
              " 'C1_thinF_IMG_20150604_104722_cell_242.png',\n",
              " 'C2NThinF_IMG_20150604_114751_cell_38.png',\n",
              " 'C2NThinF_IMG_20150604_114815_cell_142.png',\n",
              " 'C3thin_original_IMG_20150608_163047_cell_22.png',\n",
              " 'C241NThinF_IMG_20151207_124643_cell_25.png',\n",
              " 'C241NThinF_IMG_20151207_124608_cell_40.png',\n",
              " 'C2NThinF_IMG_20150604_114815_cell_95.png',\n",
              " 'C3thin_original_IMG_20150608_163002_cell_195.png',\n",
              " 'C241NThinF_IMG_20151207_124643_cell_158.png',\n",
              " 'C2NThinF_IMG_20150604_114730_cell_12.png',\n",
              " 'C1_thinF_IMG_20150604_105100_cell_130.png',\n",
              " 'C3thin_original_IMG_20150608_163047_cell_183.png',\n",
              " 'C3thin_original_IMG_20150608_163047_cell_215.png',\n",
              " 'C1_thinF_IMG_20150604_104942_cell_102.png',\n",
              " 'C3thin_original_IMG_20150608_163029_cell_83.png',\n",
              " 'C2NThinF_IMG_20150604_114730_cell_172.png',\n",
              " 'C1_thinF_IMG_20150604_104942_cell_11.png',\n",
              " 'C3thin_original_IMG_20150608_163029_cell_52.png',\n",
              " 'C2NThinF_IMG_20150604_114631_cell_74.png',\n",
              " 'C2NThinF_IMG_20150604_114751_cell_221.png',\n",
              " 'C3thin_original_IMG_20150608_163029_cell_166.png',\n",
              " 'C2NThinF_IMG_20150604_114815_cell_6.png',\n",
              " 'C241NThinF_IMG_20151207_124643_cell_169.png',\n",
              " 'C2NThinF_IMG_20150604_114730_cell_178.png',\n",
              " 'C3thin_original_IMG_20150608_163047_cell_192.png',\n",
              " 'C1_thinF_IMG_20150604_104919_cell_86.png',\n",
              " 'C241NThinF_IMG_20151207_124608_cell_90.png',\n",
              " 'C1_thinF_IMG_20150604_104942_cell_139.png',\n",
              " 'C2NThinF_IMG_20150604_114751_cell_93.png',\n",
              " 'C3thin_original_IMG_20150608_163029_cell_186.png',\n",
              " 'C2NThinF_IMG_20150604_114815_cell_62.png',\n",
              " 'C1_thinF_IMG_20150604_104919_cell_132.png',\n",
              " 'C1_thinF_IMG_20150604_105100_cell_157.png',\n",
              " 'C1_thinF_IMG_20150604_104919_cell_189.png',\n",
              " 'C1_thinF_IMG_20150604_105100_cell_43.png',\n",
              " 'C1_thinF_IMG_20150604_104919_cell_123.png',\n",
              " 'C1_thinF_IMG_20150604_105100_cell_232.png',\n",
              " 'C2NThinF_IMG_20150604_114631_cell_144.png',\n",
              " 'C3thin_original_IMG_20150608_163047_cell_214.png',\n",
              " 'C241NThinF_IMG_20151207_124643_cell_96.png',\n",
              " 'C2NThinF_IMG_20150604_115238_cell_133.png',\n",
              " 'C2NThinF_IMG_20150604_114730_cell_72.png',\n",
              " 'C2NThinF_IMG_20150604_114815_cell_107.png',\n",
              " 'C1_thinF_IMG_20150604_104942_cell_151.png',\n",
              " 'C1_thinF_IMG_20150604_104722_cell_81.png',\n",
              " 'C1_thinF_IMG_20150604_105100_cell_275.png',\n",
              " 'C3thin_original_IMG_20150608_163047_cell_103.png',\n",
              " 'C1_thinF_IMG_20150604_104722_cell_60.png',\n",
              " 'C241NThinF_IMG_20151207_124358_cell_84.png',\n",
              " 'C1_thinF_IMG_20150604_104942_cell_269.png',\n",
              " 'C241NThinF_IMG_20151207_124608_cell_120.png',\n",
              " 'C2NThinF_IMG_20150604_114751_cell_113.png',\n",
              " 'C1_thinF_IMG_20150604_104942_cell_154.png',\n",
              " 'C1_thinF_IMG_20150604_104919_cell_134.png',\n",
              " 'C241NThinF_IMG_20151207_124358_cell_137.png',\n",
              " 'C1_thinF_IMG_20150604_105100_cell_180.png',\n",
              " 'C3thin_original_IMG_20150608_163029_cell_202.png',\n",
              " 'C2NThinF_IMG_20150604_114751_cell_101.png',\n",
              " 'C2NThinF_IMG_20150604_114730_cell_98.png',\n",
              " 'C2NThinF_IMG_20150604_114815_cell_232.png',\n",
              " 'C3thin_original_IMG_20150608_163029_cell_44.png',\n",
              " 'C2NThinF_IMG_20150604_114815_cell_128.png',\n",
              " 'C1_thinF_IMG_20150604_104722_cell_123.png',\n",
              " 'C2NThinF_IMG_20150604_114751_cell_92.png',\n",
              " 'C4thin_original_IMG_20150608_165540_cell_19.png',\n",
              " 'C2NThinF_IMG_20150604_114815_cell_73.png',\n",
              " 'C2NThinF_IMG_20150604_114730_cell_161.png',\n",
              " 'C1_thinF_IMG_20150604_104722_cell_79.png',\n",
              " 'C1_thinF_IMG_20150604_104942_cell_4.png',\n",
              " 'C2NThinF_IMG_20150604_114751_cell_142.png',\n",
              " 'C1_thinF_IMG_20150604_104722_cell_216.png',\n",
              " 'C241NThinF_IMG_20151207_124643_cell_91.png',\n",
              " 'C2NThinF_IMG_20150604_114631_cell_150.png',\n",
              " 'C1_thinF_IMG_20150604_104942_cell_218.png',\n",
              " 'C2NThinF_IMG_20150604_114730_cell_113.png',\n",
              " 'C1_thinF_IMG_20150604_104942_cell_209.png',\n",
              " 'C3thin_original_IMG_20150608_163029_cell_220.png',\n",
              " 'C1_thinF_IMG_20150604_104942_cell_59.png',\n",
              " 'C241NThinF_IMG_20151207_124643_cell_26.png',\n",
              " 'C1_thinF_IMG_20150604_104722_cell_115.png',\n",
              " 'C3thin_original_IMG_20150608_163047_cell_161.png',\n",
              " 'C1_thinF_IMG_20150604_104722_cell_164.png',\n",
              " 'C2NThinF_IMG_20150604_114631_cell_141.png',\n",
              " 'C3thin_original_IMG_20150608_163047_cell_26.png',\n",
              " 'C2NThinF_IMG_20150604_114730_cell_183.png',\n",
              " 'C2NThinF_IMG_20150604_114815_cell_233.png',\n",
              " 'C1_thinF_IMG_20150604_104722_cell_191.png',\n",
              " 'C1_thinF_IMG_20150604_104919_cell_163.png',\n",
              " 'C1_thinF_IMG_20150604_104722_cell_248.png',\n",
              " 'C1_thinF_IMG_20150604_104919_cell_164.png',\n",
              " 'C2NThinF_IMG_20150604_115238_cell_115.png',\n",
              " 'C241NThinF_IMG_20151207_124608_cell_22.png',\n",
              " 'C241NThinF_IMG_20151207_124608_cell_125.png',\n",
              " 'C2NThinF_IMG_20150604_114815_cell_217.png',\n",
              " 'C1_thinF_IMG_20150604_104722_cell_231.png',\n",
              " 'C3thin_original_IMG_20150608_163047_cell_145.png',\n",
              " 'C2NThinF_IMG_20150604_114631_cell_215.png',\n",
              " 'C2NThinF_IMG_20150604_114751_cell_107.png',\n",
              " 'C241NThinF_IMG_20151207_124358_cell_119.png',\n",
              " 'C1_thinF_IMG_20150604_104722_cell_9.png',\n",
              " 'C2NThinF_IMG_20150604_115238_cell_13.png',\n",
              " 'C2NThinF_IMG_20150604_114631_cell_72.png',\n",
              " 'C3thin_original_IMG_20150608_163029_cell_156.png',\n",
              " 'C2NThinF_IMG_20150604_114631_cell_214.png',\n",
              " 'C241NThinF_IMG_20151207_124608_cell_104.png',\n",
              " 'C2NThinF_IMG_20150604_114730_cell_173.png',\n",
              " 'C241NThinF_IMG_20151207_124358_cell_82.png',\n",
              " 'C2NThinF_IMG_20150604_115238_cell_117.png',\n",
              " 'C3thin_original_IMG_20150608_163029_cell_57.png',\n",
              " 'C1_thinF_IMG_20150604_105100_cell_53.png',\n",
              " 'C2NThinF_IMG_20150604_114730_cell_124.png',\n",
              " 'C2NThinF_IMG_20150604_114631_cell_204.png',\n",
              " 'C2NThinF_IMG_20150604_114631_cell_99.png',\n",
              " 'C3thin_original_IMG_20150608_163047_cell_147.png',\n",
              " 'C1_thinF_IMG_20150604_105100_cell_201.png',\n",
              " 'C241NThinF_IMG_20151207_124643_cell_136.png',\n",
              " 'C3thin_original_IMG_20150608_163029_cell_80.png',\n",
              " 'C1_thinF_IMG_20150604_104722_cell_143.png',\n",
              " 'C2NThinF_IMG_20150604_114730_cell_139.png',\n",
              " 'C241NThinF_IMG_20151207_124608_cell_171.png',\n",
              " 'C1_thinF_IMG_20150604_104942_cell_168.png',\n",
              " 'C2NThinF_IMG_20150604_114751_cell_69.png',\n",
              " 'C3thin_original_IMG_20150608_163029_cell_125.png',\n",
              " 'C3thin_original_IMG_20150608_163002_cell_159.png',\n",
              " 'C1_thinF_IMG_20150604_105100_cell_152.png',\n",
              " 'C1_thinF_IMG_20150604_104942_cell_185.png',\n",
              " 'C241NThinF_IMG_20151207_124643_cell_125.png',\n",
              " 'C2NThinF_IMG_20150604_114751_cell_127.png',\n",
              " 'C1_thinF_IMG_20150604_104919_cell_199.png',\n",
              " 'C1_thinF_IMG_20150604_104722_cell_211.png',\n",
              " 'C1_thinF_IMG_20150604_104919_cell_173.png',\n",
              " 'C1_thinF_IMG_20150604_104919_cell_183.png',\n",
              " 'C1_thinF_IMG_20150604_104919_cell_240.png',\n",
              " 'C241NThinF_IMG_20151207_124358_cell_91.png',\n",
              " 'C1_thinF_IMG_20150604_105100_cell_134.png',\n",
              " 'C1_thinF_IMG_20150604_105100_cell_243.png',\n",
              " 'C2NThinF_IMG_20150604_114815_cell_235.png',\n",
              " 'C2NThinF_IMG_20150604_114730_cell_13.png',\n",
              " 'C2NThinF_IMG_20150604_115238_cell_138.png',\n",
              " 'C2NThinF_IMG_20150604_114631_cell_38.png',\n",
              " 'C1_thinF_IMG_20150604_104919_cell_96.png',\n",
              " 'C3thin_original_IMG_20150608_163047_cell_168.png',\n",
              " 'C2NThinF_IMG_20150604_114751_cell_217.png',\n",
              " 'C1_thinF_IMG_20150604_104919_cell_178.png',\n",
              " 'C1_thinF_IMG_20150604_104942_cell_156.png',\n",
              " 'C241NThinF_IMG_20151207_124608_cell_51.png',\n",
              " 'C241NThinF_IMG_20151207_124358_cell_149.png',\n",
              " 'C1_thinF_IMG_20150604_105100_cell_213.png',\n",
              " 'C2NThinF_IMG_20150604_114631_cell_187.png',\n",
              " 'C1_thinF_IMG_20150604_104722_cell_73.png',\n",
              " 'C1_thinF_IMG_20150604_104919_cell_224.png',\n",
              " 'C241NThinF_IMG_20151207_124608_cell_61.png',\n",
              " 'C2NThinF_IMG_20150604_114631_cell_155.png',\n",
              " 'C3thin_original_IMG_20150608_163029_cell_1.png']"
            ]
          },
          "metadata": {},
          "execution_count": 44
        }
      ]
    },
    {
      "cell_type": "code",
      "source": [
        "# our layers - you can add more if you want\n",
        "x = Flatten()(mobilnet.output)"
      ],
      "metadata": {
        "id": "mVXmLxFdQS6A"
      },
      "execution_count": 26,
      "outputs": []
    },
    {
      "cell_type": "code",
      "source": [],
      "metadata": {
        "id": "neIl4OPZUM_W"
      },
      "execution_count": null,
      "outputs": []
    },
    {
      "cell_type": "code",
      "source": [
        "prediction = Dense(len(folders), activation='softmax')(x)\n"
      ],
      "metadata": {
        "id": "8i6uUTJsQexb"
      },
      "execution_count": 27,
      "outputs": []
    },
    {
      "cell_type": "code",
      "source": [
        "# create a model object\n",
        "model = Model(inputs=vgg19.input, outputs=prediction)"
      ],
      "metadata": {
        "id": "SsTgg-gjQlv5"
      },
      "execution_count": 28,
      "outputs": []
    },
    {
      "cell_type": "code",
      "source": [
        "# view the structure of the model\n",
        "model.summary()"
      ],
      "metadata": {
        "colab": {
          "base_uri": "https://localhost:8080/"
        },
        "id": "TbmOTMgJQrJj",
        "outputId": "0d4cbab9-f1da-4ce2-9bc7-d6aee32e156c"
      },
      "execution_count": 29,
      "outputs": [
        {
          "output_type": "stream",
          "name": "stdout",
          "text": [
            "Model: \"model\"\n",
            "_________________________________________________________________\n",
            " Layer (type)                Output Shape              Param #   \n",
            "=================================================================\n",
            " input_1 (InputLayer)        [(None, 224, 224, 3)]     0         \n",
            "                                                                 \n",
            " block1_conv1 (Conv2D)       (None, 224, 224, 64)      1792      \n",
            "                                                                 \n",
            " block1_conv2 (Conv2D)       (None, 224, 224, 64)      36928     \n",
            "                                                                 \n",
            " block1_pool (MaxPooling2D)  (None, 112, 112, 64)      0         \n",
            "                                                                 \n",
            " block2_conv1 (Conv2D)       (None, 112, 112, 128)     73856     \n",
            "                                                                 \n",
            " block2_conv2 (Conv2D)       (None, 112, 112, 128)     147584    \n",
            "                                                                 \n",
            " block2_pool (MaxPooling2D)  (None, 56, 56, 128)       0         \n",
            "                                                                 \n",
            " block3_conv1 (Conv2D)       (None, 56, 56, 256)       295168    \n",
            "                                                                 \n",
            " block3_conv2 (Conv2D)       (None, 56, 56, 256)       590080    \n",
            "                                                                 \n",
            " block3_conv3 (Conv2D)       (None, 56, 56, 256)       590080    \n",
            "                                                                 \n",
            " block3_conv4 (Conv2D)       (None, 56, 56, 256)       590080    \n",
            "                                                                 \n",
            " block3_pool (MaxPooling2D)  (None, 28, 28, 256)       0         \n",
            "                                                                 \n",
            " block4_conv1 (Conv2D)       (None, 28, 28, 512)       1180160   \n",
            "                                                                 \n",
            " block4_conv2 (Conv2D)       (None, 28, 28, 512)       2359808   \n",
            "                                                                 \n",
            " block4_conv3 (Conv2D)       (None, 28, 28, 512)       2359808   \n",
            "                                                                 \n",
            " block4_conv4 (Conv2D)       (None, 28, 28, 512)       2359808   \n",
            "                                                                 \n",
            " block4_pool (MaxPooling2D)  (None, 14, 14, 512)       0         \n",
            "                                                                 \n",
            " block5_conv1 (Conv2D)       (None, 14, 14, 512)       2359808   \n",
            "                                                                 \n",
            " block5_conv2 (Conv2D)       (None, 14, 14, 512)       2359808   \n",
            "                                                                 \n",
            " block5_conv3 (Conv2D)       (None, 14, 14, 512)       2359808   \n",
            "                                                                 \n",
            " block5_conv4 (Conv2D)       (None, 14, 14, 512)       2359808   \n",
            "                                                                 \n",
            " block5_pool (MaxPooling2D)  (None, 7, 7, 512)         0         \n",
            "                                                                 \n",
            " flatten (Flatten)           (None, 25088)             0         \n",
            "                                                                 \n",
            " dense (Dense)               (None, 2)                 50178     \n",
            "                                                                 \n",
            "=================================================================\n",
            "Total params: 20,074,562\n",
            "Trainable params: 50,178\n",
            "Non-trainable params: 20,024,384\n",
            "_________________________________________________________________\n"
          ]
        }
      ]
    },
    {
      "cell_type": "code",
      "source": [
        "from tensorflow.keras.layers import MaxPooling2D"
      ],
      "metadata": {
        "id": "UuFdclWoQwwV"
      },
      "execution_count": null,
      "outputs": []
    },
    {
      "cell_type": "code",
      "source": [
        "### Create Model from scratch using CNN\n",
        "model=Sequential()\n",
        "model.add(Conv2D(filters=16,kernel_size=2,padding=\"same\",activation=\"relu\",input_shape=(224,224,3)))\n",
        "model.add(MaxPooling2D(pool_size=2))\n",
        "model.add(Conv2D(filters=32,kernel_size=2,padding=\"same\",activation =\"relu\"))\n",
        "model.add(MaxPooling2D(pool_size=2))\n",
        "model.add(Conv2D(filters=64,kernel_size=2,padding=\"same\",activation=\"relu\"))\n",
        "model.add(MaxPooling2D(pool_size=2))\n",
        "model.add(Flatten())\n",
        "model.add(Dense(500,activation=\"relu\"))\n",
        "model.add(Dense(2,activation=\"softmax\"))\n",
        "model.summary()"
      ],
      "metadata": {
        "colab": {
          "base_uri": "https://localhost:8080/"
        },
        "id": "Lu52vM-AQ7Ck",
        "outputId": "d69a6a14-9026-4a20-cbe9-c26c53c59700"
      },
      "execution_count": null,
      "outputs": [
        {
          "output_type": "stream",
          "name": "stdout",
          "text": [
            "Model: \"sequential\"\n",
            "_________________________________________________________________\n",
            " Layer (type)                Output Shape              Param #   \n",
            "=================================================================\n",
            " conv2d (Conv2D)             (None, 224, 224, 16)      208       \n",
            "                                                                 \n",
            " max_pooling2d (MaxPooling2D  (None, 112, 112, 16)     0         \n",
            " )                                                               \n",
            "                                                                 \n",
            " conv2d_1 (Conv2D)           (None, 112, 112, 32)      2080      \n",
            "                                                                 \n",
            " max_pooling2d_1 (MaxPooling  (None, 56, 56, 32)       0         \n",
            " 2D)                                                             \n",
            "                                                                 \n",
            " conv2d_2 (Conv2D)           (None, 56, 56, 64)        8256      \n",
            "                                                                 \n",
            " max_pooling2d_2 (MaxPooling  (None, 28, 28, 64)       0         \n",
            " 2D)                                                             \n",
            "                                                                 \n",
            " flatten_1 (Flatten)         (None, 50176)             0         \n",
            "                                                                 \n",
            " dense_1 (Dense)             (None, 500)               25088500  \n",
            "                                                                 \n",
            " dense_2 (Dense)             (None, 2)                 1002      \n",
            "                                                                 \n",
            "=================================================================\n",
            "Total params: 25,100,046\n",
            "Trainable params: 25,100,046\n",
            "Non-trainable params: 0\n",
            "_________________________________________________________________\n"
          ]
        }
      ]
    },
    {
      "cell_type": "code",
      "source": [
        "# tell the model what cost and optimization method to use\n",
        "model.compile(\n",
        "  loss='categorical_crossentropy',\n",
        "  optimizer='adam',\n",
        "  metrics=['accuracy']\n",
        ")"
      ],
      "metadata": {
        "id": "mK-Vy-7iRBHN"
      },
      "execution_count": 30,
      "outputs": []
    },
    {
      "cell_type": "code",
      "source": [
        "# Use the Image Data Generator to import the images from the dataset\n",
        "from tensorflow.keras.preprocessing.image import ImageDataGenerator\n",
        "\n",
        "train_datagen = ImageDataGenerator(rescale = 1./255,\n",
        "                                   shear_range = 0.2,\n",
        "                                   zoom_range = 0.2,\n",
        "                                   horizontal_flip = True)\n",
        "\n",
        "test_datagen = ImageDataGenerator(rescale = 1./255)"
      ],
      "metadata": {
        "id": "MBh4HIIGRR-s"
      },
      "execution_count": 31,
      "outputs": []
    },
    {
      "cell_type": "code",
      "source": [
        "# Make sure you provide the same target size as initialied for the image size\n",
        "training_set = train_datagen.flow_from_directory('/content/Dataset/Train',\n",
        "                                                 target_size = (224, 224),\n",
        "                                                 batch_size = 32,\n",
        "                                                 class_mode = 'categorical')"
      ],
      "metadata": {
        "colab": {
          "base_uri": "https://localhost:8080/"
        },
        "id": "p6rhigPKRWE7",
        "outputId": "9d60d431-7a28-430e-fd0f-dcd734918dc4"
      },
      "execution_count": 32,
      "outputs": [
        {
          "output_type": "stream",
          "name": "stdout",
          "text": [
            "Found 416 images belonging to 2 classes.\n"
          ]
        }
      ]
    },
    {
      "cell_type": "code",
      "source": [
        "training_set"
      ],
      "metadata": {
        "colab": {
          "base_uri": "https://localhost:8080/"
        },
        "id": "LuZ1YCRpRasH",
        "outputId": "42bcf92c-5a17-41c6-d012-d98f0a719ce1"
      },
      "execution_count": null,
      "outputs": [
        {
          "output_type": "execute_result",
          "data": {
            "text/plain": [
              "<keras.preprocessing.image.DirectoryIterator at 0x7a7a6851d810>"
            ]
          },
          "metadata": {},
          "execution_count": 35
        }
      ]
    },
    {
      "cell_type": "code",
      "source": [
        "test_set = test_datagen.flow_from_directory('/content/Dataset/Test',\n",
        "                                            target_size = (224, 224),\n",
        "                                            batch_size = 32,\n",
        "                                            class_mode = 'categorical')"
      ],
      "metadata": {
        "colab": {
          "base_uri": "https://localhost:8080/"
        },
        "id": "AkkEFQAeT5rY",
        "outputId": "bf69c3e1-b122-4956-a530-f0cfed4c3e31"
      },
      "execution_count": 33,
      "outputs": [
        {
          "output_type": "stream",
          "name": "stdout",
          "text": [
            "Found 134 images belonging to 2 classes.\n"
          ]
        }
      ]
    },
    {
      "cell_type": "code",
      "source": [
        "# fit the model\n",
        "# Run the cell. It will take some time to execute\n",
        "r = model.fit_generator(\n",
        "  training_set,\n",
        "  validation_data=test_set,\n",
        "  epochs=10,\n",
        "  steps_per_epoch=len(training_set),\n",
        "  validation_steps=len(test_set)\n",
        ")"
      ],
      "metadata": {
        "colab": {
          "base_uri": "https://localhost:8080/"
        },
        "id": "C1Cg8NJ0UGMz",
        "outputId": "c464e1e8-9f9c-4f07-b916-36470026ba8e"
      },
      "execution_count": 34,
      "outputs": [
        {
          "output_type": "stream",
          "name": "stderr",
          "text": [
            "<ipython-input-34-04ffb29a66a7>:3: UserWarning: `Model.fit_generator` is deprecated and will be removed in a future version. Please use `Model.fit`, which supports generators.\n",
            "  r = model.fit_generator(\n"
          ]
        },
        {
          "output_type": "stream",
          "name": "stdout",
          "text": [
            "Epoch 1/10\n",
            "13/13 [==============================] - 22s 606ms/step - loss: 1.5534 - accuracy: 0.5000 - val_loss: 1.5445 - val_accuracy: 0.3507\n",
            "Epoch 2/10\n",
            "13/13 [==============================] - 6s 431ms/step - loss: 0.5831 - accuracy: 0.6899 - val_loss: 0.5571 - val_accuracy: 0.6866\n",
            "Epoch 3/10\n",
            "13/13 [==============================] - 6s 490ms/step - loss: 0.4256 - accuracy: 0.8029 - val_loss: 0.6603 - val_accuracy: 0.6343\n",
            "Epoch 4/10\n",
            "13/13 [==============================] - 6s 437ms/step - loss: 0.4328 - accuracy: 0.7909 - val_loss: 0.4931 - val_accuracy: 0.7388\n",
            "Epoch 5/10\n",
            "13/13 [==============================] - 6s 475ms/step - loss: 0.3787 - accuracy: 0.8173 - val_loss: 0.4110 - val_accuracy: 0.7761\n",
            "Epoch 6/10\n",
            "13/13 [==============================] - 6s 434ms/step - loss: 0.2963 - accuracy: 0.8750 - val_loss: 0.4063 - val_accuracy: 0.8209\n",
            "Epoch 7/10\n",
            "13/13 [==============================] - 7s 516ms/step - loss: 0.2718 - accuracy: 0.8966 - val_loss: 0.3729 - val_accuracy: 0.7836\n",
            "Epoch 8/10\n",
            "13/13 [==============================] - 7s 516ms/step - loss: 0.2518 - accuracy: 0.9087 - val_loss: 0.5303 - val_accuracy: 0.7239\n",
            "Epoch 9/10\n",
            "13/13 [==============================] - 6s 437ms/step - loss: 0.2624 - accuracy: 0.8894 - val_loss: 0.3236 - val_accuracy: 0.8881\n",
            "Epoch 10/10\n",
            "13/13 [==============================] - 7s 512ms/step - loss: 0.2296 - accuracy: 0.9327 - val_loss: 0.3242 - val_accuracy: 0.8806\n"
          ]
        }
      ]
    },
    {
      "cell_type": "code",
      "source": [
        "import matplotlib.pyplot as plt"
      ],
      "metadata": {
        "id": "RdzW1bYihJ9z"
      },
      "execution_count": null,
      "outputs": []
    },
    {
      "cell_type": "code",
      "source": [
        "# plot the loss\n",
        "plt.plot(r.history['loss'], label='train loss')\n",
        "plt.plot(r.history['val_loss'], label='val loss')\n",
        "plt.legend()\n",
        "plt.show()\n",
        "plt.savefig('LossVal_loss')\n"
      ],
      "metadata": {
        "colab": {
          "base_uri": "https://localhost:8080/",
          "height": 447
        },
        "id": "5IDZI3GeUUoH",
        "outputId": "81a73a26-ce9f-4719-bf5d-29c982619950"
      },
      "execution_count": 35,
      "outputs": [
        {
          "output_type": "display_data",
          "data": {
            "text/plain": [
              "<Figure size 640x480 with 1 Axes>"
            ],
            "image/png": "[encoded data removed]"
          },
          "metadata": {}
        },
        {
          "output_type": "display_data",
          "data": {
            "text/plain": [
              "<Figure size 640x480 with 0 Axes>"
            ]
          },
          "metadata": {}
        }
      ]
    },
    {
      "cell_type": "code",
      "source": [
        "# plot the accuracy\n",
        "plt.plot(r.history['accuracy'], label='train acc')\n",
        "plt.plot(r.history['val_accuracy'], label='val acc')\n",
        "plt.legend()\n",
        "plt.show()\n",
        "plt.savefig('AccVal_acc')\n"
      ],
      "metadata": {
        "colab": {
          "base_uri": "https://localhost:8080/",
          "height": 447
        },
        "id": "k7KSZpLwbhfx",
        "outputId": "d68838b5-82f3-4417-a23a-49042aeae682"
      },
      "execution_count": 36,
      "outputs": [
        {
          "output_type": "display_data",
          "data": {
            "text/plain": [
              "<Figure size 640x480 with 1 Axes>"
            ],
            "image/png": "[encoded data removed]"
          },
          "metadata": {}
        },
        {
          "output_type": "display_data",
          "data": {
            "text/plain": [
              "<Figure size 640x480 with 0 Axes>"
            ]
          },
          "metadata": {}
        }
      ]
    },
    {
      "cell_type": "code",
      "source": [
        " #save it as a h5 file\n",
        "\n",
        "\n",
        "from tensorflow.keras.models import load_model\n",
        "\n",
        "model.save('model_vgg19.h5')\n"
      ],
      "metadata": {
        "id": "Cg8S3O9hkoJp"
      },
      "execution_count": 37,
      "outputs": []
    },
    {
      "cell_type": "code",
      "source": [
        "y_pred = model.predict(test_set)"
      ],
      "metadata": {
        "colab": {
          "base_uri": "https://localhost:8080/"
        },
        "id": "VMhM5bjMtEJ7",
        "outputId": "455127b2-aef5-40b5-88fd-c70872dd735c"
      },
      "execution_count": 38,
      "outputs": [
        {
          "output_type": "stream",
          "name": "stdout",
          "text": [
            "5/5 [==============================] - 1s 147ms/step\n"
          ]
        }
      ]
    },
    {
      "cell_type": "code",
      "source": [
        "y_pred"
      ],
      "metadata": {
        "colab": {
          "base_uri": "https://localhost:8080/"
        },
        "id": "tf1TuTXstQqq",
        "outputId": "5d8d878c-d1af-43bd-a8da-f2e1177d5e22"
      },
      "execution_count": 39,
      "outputs": [
        {
          "output_type": "execute_result",
          "data": {
            "text/plain": [
              "array([[2.3108511e-01, 7.6891494e-01],\n",
              "       [4.8127097e-01, 5.1872903e-01],\n",
              "       [7.7800316e-01, 2.2199684e-01],\n",
              "       [9.9757856e-01, 2.4214529e-03],\n",
              "       [6.7101604e-01, 3.2898390e-01],\n",
              "       [4.7190180e-01, 5.2809817e-01],\n",
              "       [2.8638893e-01, 7.1361107e-01],\n",
              "       [7.5065488e-01, 2.4934512e-01],\n",
              "       [1.9270255e-01, 8.0729747e-01],\n",
              "       [3.2986230e-01, 6.7013770e-01],\n",
              "       [1.7470685e-01, 8.2529312e-01],\n",
              "       [4.3296045e-01, 5.6703961e-01],\n",
              "       [9.8610222e-01, 1.3897719e-02],\n",
              "       [9.5407933e-01, 4.5920666e-02],\n",
              "       [5.3789610e-01, 4.6210387e-01],\n",
              "       [6.1444455e-01, 3.8555545e-01],\n",
              "       [9.9740821e-01, 2.5918051e-03],\n",
              "       [1.5236700e-01, 8.4763294e-01],\n",
              "       [9.8538870e-01, 1.4611324e-02],\n",
              "       [9.9737275e-01, 2.6272149e-03],\n",
              "       [7.8512347e-01, 2.1487655e-01],\n",
              "       [8.6951685e-01, 1.3048317e-01],\n",
              "       [7.1753317e-01, 2.8246683e-01],\n",
              "       [1.9217710e-01, 8.0782288e-01],\n",
              "       [2.4691990e-01, 7.5308013e-01],\n",
              "       [5.2670680e-02, 9.4732934e-01],\n",
              "       [9.5510608e-01, 4.4893883e-02],\n",
              "       [9.9991500e-01, 8.4964675e-05],\n",
              "       [1.4743663e-01, 8.5256338e-01],\n",
              "       [6.1649621e-01, 3.8350385e-01],\n",
              "       [6.1632901e-01, 3.8367102e-01],\n",
              "       [9.9024081e-01, 9.7591914e-03],\n",
              "       [2.8446895e-01, 7.1553105e-01],\n",
              "       [8.7433118e-01, 1.2566885e-01],\n",
              "       [9.7066891e-01, 2.9331096e-02],\n",
              "       [1.7309868e-01, 8.2690132e-01],\n",
              "       [3.4699985e-01, 6.5300012e-01],\n",
              "       [9.9321485e-01, 6.7851809e-03],\n",
              "       [9.7839934e-01, 2.1600721e-02],\n",
              "       [3.9439872e-01, 6.0560131e-01],\n",
              "       [9.6363449e-01, 3.6365494e-02],\n",
              "       [9.9614656e-01, 3.8534817e-03],\n",
              "       [9.9965143e-01, 3.4856371e-04],\n",
              "       [9.9441010e-01, 5.5899094e-03],\n",
              "       [9.7040039e-01, 2.9599624e-02],\n",
              "       [9.7077549e-01, 2.9224494e-02],\n",
              "       [7.9241705e-01, 2.0758291e-01],\n",
              "       [9.6742392e-01, 3.2576069e-02],\n",
              "       [6.1305213e-01, 3.8694790e-01],\n",
              "       [8.1833214e-01, 1.8166792e-01],\n",
              "       [4.2317599e-01, 5.7682395e-01],\n",
              "       [9.9608153e-01, 3.9185276e-03],\n",
              "       [9.3345153e-01, 6.6548452e-02],\n",
              "       [1.4729868e-01, 8.5270137e-01],\n",
              "       [1.9963697e-01, 8.0036300e-01],\n",
              "       [6.1787242e-01, 3.8212752e-01],\n",
              "       [8.1014627e-01, 1.8985370e-01],\n",
              "       [7.1584272e-01, 2.8415728e-01],\n",
              "       [9.6143603e-01, 3.8563970e-02],\n",
              "       [2.7613139e-01, 7.2386861e-01],\n",
              "       [9.8226303e-01, 1.7736921e-02],\n",
              "       [8.0384362e-01, 1.9615641e-01],\n",
              "       [3.9955324e-01, 6.0044682e-01],\n",
              "       [1.9687079e-01, 8.0312920e-01],\n",
              "       [9.9945027e-01, 5.4970628e-04],\n",
              "       [1.9228449e-01, 8.0771554e-01],\n",
              "       [1.4470166e-01, 8.5529834e-01],\n",
              "       [3.7253755e-01, 6.2746245e-01],\n",
              "       [9.6120489e-01, 3.8795069e-02],\n",
              "       [8.2255483e-01, 1.7744516e-01],\n",
              "       [9.9809366e-01, 1.9063252e-03],\n",
              "       [8.3072108e-01, 1.6927893e-01],\n",
              "       [4.1707858e-01, 5.8292145e-01],\n",
              "       [4.1723588e-01, 5.8276409e-01],\n",
              "       [9.0016353e-01, 9.9836431e-02],\n",
              "       [8.2812566e-01, 1.7187439e-01],\n",
              "       [9.2816985e-01, 7.1830191e-02],\n",
              "       [9.4307399e-01, 5.6926064e-02],\n",
              "       [9.9265093e-01, 7.3490464e-03],\n",
              "       [5.5777538e-01, 4.4222462e-01],\n",
              "       [9.4105357e-01, 5.8946427e-02],\n",
              "       [3.8606730e-01, 6.1393267e-01],\n",
              "       [9.6908903e-01, 3.0910950e-02],\n",
              "       [3.6863810e-01, 6.3136196e-01],\n",
              "       [9.7095752e-01, 2.9042445e-02],\n",
              "       [7.7788252e-01, 2.2211747e-01],\n",
              "       [1.8487248e-01, 8.1512755e-01],\n",
              "       [9.6564263e-01, 3.4357369e-02],\n",
              "       [2.7463019e-01, 7.2536987e-01],\n",
              "       [1.3078307e-01, 8.6921692e-01],\n",
              "       [4.7115830e-01, 5.2884167e-01],\n",
              "       [9.9522310e-01, 4.7769425e-03],\n",
              "       [3.7191215e-01, 6.2808782e-01],\n",
              "       [9.8437959e-01, 1.5620448e-02],\n",
              "       [9.6782291e-01, 3.2177057e-02],\n",
              "       [2.7731484e-01, 7.2268516e-01],\n",
              "       [6.9464773e-01, 3.0535224e-01],\n",
              "       [7.0339400e-01, 2.9660597e-01],\n",
              "       [9.7288305e-01, 2.7116958e-02],\n",
              "       [6.8278044e-01, 3.1721956e-01],\n",
              "       [6.2615812e-01, 3.7384182e-01],\n",
              "       [5.9952134e-01, 4.0047869e-01],\n",
              "       [5.5912596e-01, 4.4087401e-01],\n",
              "       [9.3394053e-01, 6.6059470e-02],\n",
              "       [3.9322209e-01, 6.0677785e-01],\n",
              "       [1.3836361e-01, 8.6163646e-01],\n",
              "       [3.1002223e-01, 6.8997777e-01],\n",
              "       [5.3302574e-01, 4.6697423e-01],\n",
              "       [7.3768681e-01, 2.6231316e-01],\n",
              "       [5.8152270e-01, 4.1847733e-01],\n",
              "       [9.9110597e-01, 8.8940207e-03],\n",
              "       [3.6262476e-01, 6.3737524e-01],\n",
              "       [6.4850539e-01, 3.5149464e-01],\n",
              "       [3.4311596e-01, 6.5688407e-01],\n",
              "       [7.3367578e-01, 2.6632428e-01],\n",
              "       [2.8592247e-01, 7.1407753e-01],\n",
              "       [9.7507292e-01, 2.4927037e-02],\n",
              "       [7.9315060e-01, 2.0684947e-01],\n",
              "       [7.7358848e-01, 2.2641146e-01],\n",
              "       [5.2099878e-01, 4.7900122e-01],\n",
              "       [3.1838545e-01, 6.8161452e-01],\n",
              "       [8.8929182e-01, 1.1070820e-01],\n",
              "       [2.8558385e-01, 7.1441615e-01],\n",
              "       [4.1048980e-01, 5.8951026e-01],\n",
              "       [2.4062689e-01, 7.5937313e-01],\n",
              "       [8.8747281e-01, 1.1252722e-01],\n",
              "       [9.7030807e-01, 2.9691905e-02],\n",
              "       [4.3908137e-01, 5.6091863e-01],\n",
              "       [3.0939907e-01, 6.9060093e-01],\n",
              "       [8.3496463e-01, 1.6503535e-01],\n",
              "       [9.9462306e-01, 5.3769168e-03],\n",
              "       [3.1423631e-01, 6.8576366e-01],\n",
              "       [6.8582183e-01, 3.1417817e-01],\n",
              "       [5.3880566e-01, 4.6119431e-01]], dtype=float32)"
            ]
          },
          "metadata": {},
          "execution_count": 39
        }
      ]
    },
    {
      "cell_type": "code",
      "source": [
        "import numpy as np\n",
        "y_pred = np.argmax(y_pred, axis=1)"
      ],
      "metadata": {
        "id": "wRk7EvXjtZ4o"
      },
      "execution_count": 40,
      "outputs": []
    },
    {
      "cell_type": "code",
      "source": [
        "y_pred"
      ],
      "metadata": {
        "colab": {
          "base_uri": "https://localhost:8080/"
        },
        "id": "6ycItZestm9t",
        "outputId": "585414e7-d542-4986-c4a9-e7c87c6f5ee8"
      },
      "execution_count": null,
      "outputs": [
        {
          "output_type": "execute_result",
          "data": {
            "text/plain": [
              "array([0, 0, 0, 0, 0, 0, 0, 0, 0, 0, 0, 0, 0, 0, 0, 0, 0, 0, 0, 0, 0, 0,\n",
              "       0, 0, 0, 0, 0, 0, 0, 0, 0, 0, 0, 0, 0, 0, 0, 0, 0, 0, 0, 0, 0, 0,\n",
              "       0, 0, 0, 0, 0, 0, 0, 0, 0, 0, 0, 0, 0, 0, 0, 0, 0, 0, 0, 0, 0, 0,\n",
              "       0, 0, 0, 0, 0, 0, 0, 0, 0, 0, 0, 0, 0, 0, 0, 0, 0, 0, 0, 0, 0, 0,\n",
              "       0, 0, 0, 0, 0, 0, 0, 0, 0, 0, 0, 0, 0, 0, 0, 0, 0, 0, 0, 0, 0, 0,\n",
              "       0, 0, 0, 0, 0, 0, 0, 0, 0, 0, 0, 0, 0, 0, 0, 0, 0, 0, 0, 0, 0, 0,\n",
              "       0, 0, 0, 0, 0, 0, 0, 0, 0, 0, 0, 0, 0, 0, 0, 0, 0, 0, 0, 0, 0, 0,\n",
              "       0, 0, 0, 0, 0, 0, 0, 0, 0, 0, 0, 0, 0, 0, 0, 0, 0, 0, 0, 0, 0, 0,\n",
              "       0, 0, 0, 0, 0, 0, 0, 0, 0, 0, 0, 0, 0, 0, 0, 0, 0, 0, 0, 0, 0, 0,\n",
              "       0, 0, 0, 0, 0, 0, 0, 0, 0, 0, 0, 0, 0, 0, 0, 0, 0, 0, 0, 0, 0, 0,\n",
              "       0, 0, 0, 0, 0, 0, 0, 0, 0, 0, 0, 0, 0, 0, 0, 0, 0, 0, 0, 0, 0, 0,\n",
              "       0, 0, 0, 0, 0, 0, 0, 0, 0, 0, 0, 0, 0, 0, 0, 0, 0, 0, 0, 0, 0, 0,\n",
              "       0, 0, 0, 0, 0, 0, 0, 0, 0, 0, 0, 0, 0, 0, 0, 0, 0, 0, 0, 0, 0, 0,\n",
              "       0, 0, 0, 0, 0, 0, 0, 0, 0, 0, 0, 0, 0, 0, 0, 0, 0, 0, 0, 0, 0, 0,\n",
              "       0, 0, 0, 0, 0, 0, 0, 0, 0, 0, 0, 0, 0, 0, 0, 0, 0, 0, 0, 0, 0, 0,\n",
              "       0, 0, 0, 0, 0, 0, 0, 0, 0, 0, 0, 0, 0, 0, 0, 0, 0, 0, 0, 0, 0, 0,\n",
              "       0, 0, 0, 0, 0, 0, 0, 0, 0, 0, 0, 0, 0, 0, 0, 0, 0, 0, 0, 0, 0, 0,\n",
              "       0, 0, 0, 0, 0, 0, 0, 0, 0, 0, 0, 0, 0, 0, 0, 0, 0, 0, 0, 0, 0, 0,\n",
              "       0, 0, 0, 0, 0, 0, 0, 0, 0, 0, 0, 0, 0, 0, 0, 0, 0, 0, 0, 0, 0, 0,\n",
              "       0, 0, 0, 0, 0, 0, 0, 0, 0, 0, 0, 0, 0, 0, 0, 0, 0, 0, 0, 0, 0, 0,\n",
              "       0, 0, 0, 0, 0, 0, 0, 0, 0, 0, 0, 0, 0, 0, 0, 0, 0, 0, 0, 0, 0, 0,\n",
              "       0, 0, 0, 0, 0, 0, 0, 0, 0, 0, 0, 0, 0, 0, 0, 0, 0, 0, 0, 0, 0, 0,\n",
              "       0, 0, 0, 0, 0, 0, 0, 0, 0, 0, 0, 0, 0, 0, 0, 0, 0, 0, 0, 0, 0, 0,\n",
              "       0, 0, 0, 0, 0, 0, 0, 0, 0, 0, 0, 0, 0, 0, 0, 0, 0, 0, 0, 0, 0, 0,\n",
              "       0, 0, 0, 0, 0, 0, 0, 0, 0, 0, 0, 0, 0, 0, 0, 0, 0, 0, 0, 0, 0, 0])"
            ]
          },
          "metadata": {},
          "execution_count": 38
        }
      ]
    },
    {
      "cell_type": "code",
      "source": [
        "from tensorflow.keras.models import load_model\n",
        "from tensorflow.keras.preprocessing import image"
      ],
      "metadata": {
        "id": "M-K_qfLItqCp"
      },
      "execution_count": 41,
      "outputs": []
    },
    {
      "cell_type": "code",
      "source": [
        "model=load_model('model_vgg19.h5')"
      ],
      "metadata": {
        "id": "Bgg2pr8Ut33t"
      },
      "execution_count": 42,
      "outputs": []
    },
    {
      "cell_type": "code",
      "source": [
        "img=image.load_img('/content/Dataset/Train/Uninfected/C1_thinF_IMG_20150604_104919_cell_82.png',target_size=(224,224))"
      ],
      "metadata": {
        "id": "YSpaR9zHwe1J"
      },
      "execution_count": 48,
      "outputs": []
    },
    {
      "cell_type": "code",
      "source": [
        "x=image.img_to_array(img)"
      ],
      "metadata": {
        "id": "H08_XdP9uVNT"
      },
      "execution_count": 49,
      "outputs": []
    },
    {
      "cell_type": "code",
      "source": [
        "x=np.expand_dims(x,axis=0)\n",
        "img_data=preprocess_input(x)\n",
        "img_data.shape"
      ],
      "metadata": {
        "id": "H-wdjGh2uVQc",
        "colab": {
          "base_uri": "https://localhost:8080/"
        },
        "outputId": "963e4cc1-8402-45c6-90df-f9526a162bb6"
      },
      "execution_count": 50,
      "outputs": [
        {
          "output_type": "execute_result",
          "data": {
            "text/plain": [
              "(1, 224, 224, 3)"
            ]
          },
          "metadata": {},
          "execution_count": 50
        }
      ]
    },
    {
      "cell_type": "code",
      "source": [
        "model.predict(img_data)"
      ],
      "metadata": {
        "id": "kr1fdI4NuVTC",
        "colab": {
          "base_uri": "https://localhost:8080/"
        },
        "outputId": "24f0692a-8748-4ffe-ba3b-6bf51bb1df06"
      },
      "execution_count": 51,
      "outputs": [
        {
          "output_type": "stream",
          "name": "stdout",
          "text": [
            "1/1 [==============================] - 1s 753ms/step\n"
          ]
        },
        {
          "output_type": "execute_result",
          "data": {
            "text/plain": [
              "array([[9.9981862e-01, 1.8138453e-04]], dtype=float32)"
            ]
          },
          "metadata": {},
          "execution_count": 51
        }
      ]
    },
    {
      "cell_type": "code",
      "source": [
        "\n",
        "a=np.argmax(model.predict(img_data), axis=1)"
      ],
      "metadata": {
        "id": "UU8cXL2EuVVf",
        "colab": {
          "base_uri": "https://localhost:8080/"
        },
        "outputId": "f3134f3b-271e-4084-df84-b1628263e133"
      },
      "execution_count": 52,
      "outputs": [
        {
          "output_type": "stream",
          "name": "stdout",
          "text": [
            "1/1 [==============================] - 0s 28ms/step\n"
          ]
        }
      ]
    },
    {
      "cell_type": "code",
      "source": [
        "if(a==1):\n",
        "    print(\"Uninfected\")\n",
        "else:\n",
        "    print(\"Infected\")\n",
        "\n"
      ],
      "metadata": {
        "id": "G2Vn3ZazuVY4",
        "colab": {
          "base_uri": "https://localhost:8080/"
        },
        "outputId": "3b4f9f76-e8dd-4ef0-efc3-d21015d3bdac"
      },
      "execution_count": 54,
      "outputs": [
        {
          "output_type": "stream",
          "name": "stdout",
          "text": [
            "Infected\n"
          ]
        }
      ]
    },
    {
      "cell_type": "code",
      "source": [],
      "metadata": {
        "id": "PxyFMNjGuVbL"
      },
      "execution_count": null,
      "outputs": []
    },
    {
      "cell_type": "code",
      "source": [],
      "metadata": {
        "id": "47vkU5dNuVd8"
      },
      "execution_count": null,
      "outputs": []
    },
    {
      "cell_type": "code",
      "source": [],
      "metadata": {
        "id": "-CKtjIBbuVhb"
      },
      "execution_count": null,
      "outputs": []
    }
  ]
}